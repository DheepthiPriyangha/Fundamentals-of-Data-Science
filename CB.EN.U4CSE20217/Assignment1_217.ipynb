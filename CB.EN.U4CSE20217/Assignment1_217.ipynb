{
  "nbformat": 4,
  "nbformat_minor": 0,
  "metadata": {
    "colab": {
      "provenance": []
    },
    "kernelspec": {
      "name": "python3",
      "display_name": "Python 3"
    },
    "language_info": {
      "name": "python"
    }
  },
  "cells": [
    {
      "cell_type": "code",
      "execution_count": null,
      "metadata": {
        "colab": {
          "base_uri": "https://localhost:8080/"
        },
        "id": "Qy8iJIKbJJon",
        "outputId": "ee25db8c-308d-4c3c-86e7-9d56b436dc6e"
      },
      "outputs": [
        {
          "output_type": "stream",
          "name": "stdout",
          "text": [
            "Mounted at /content/drive\n"
          ]
        }
      ],
      "source": [
        "from google.colab import drive\n",
        "drive.mount('/content/drive')"
      ]
    },
    {
      "cell_type": "code",
      "source": [
        "def simple_interest(p,r,t):\n",
        "  print('The principal is:',p)\n",
        "  print('The timeperiod is:',t)\n",
        "  print('The rate of interest:',r)\n",
        "  si=(p*t*r)/100\n",
        "  print('The simple interest:',si)\n",
        "  return si\n",
        "simple_interest(8,6,8)"
      ],
      "metadata": {
        "colab": {
          "base_uri": "https://localhost:8080/"
        },
        "id": "pNih4efZLueu",
        "outputId": "9c3b23f6-2a97-48fa-d1d9-1bfb79c2ce8a"
      },
      "execution_count": null,
      "outputs": [
        {
          "output_type": "stream",
          "name": "stdout",
          "text": [
            "The principal is: 8\n",
            "The timeperiod is: 8\n",
            "The rate of interest: 6\n",
            "The simple interest: 3.84\n"
          ]
        },
        {
          "output_type": "execute_result",
          "data": {
            "text/plain": [
              "3.84"
            ]
          },
          "metadata": {},
          "execution_count": 2
        }
      ]
    },
    {
      "cell_type": "code",
      "source": [
        "#1\n",
        "set1=[\"aman\", \"222\", 777, 400.4]\n",
        "t=tuple(set1)\n",
        "print(t)\n",
        "print(type(t))"
      ],
      "metadata": {
        "colab": {
          "base_uri": "https://localhost:8080/"
        },
        "id": "o-op9kpR9ov4",
        "outputId": "9d16b48e-ed5c-4c5e-d7d1-b9ca5f6a6e18"
      },
      "execution_count": null,
      "outputs": [
        {
          "output_type": "stream",
          "name": "stdout",
          "text": [
            "('aman', '222', 777, 400.4)\n",
            "<class 'tuple'>\n"
          ]
        }
      ]
    },
    {
      "cell_type": "code",
      "source": [
        "#2\n",
        "dict1={'Rollno':'CB.EN.U4CSE20217','FirstName':'Dheepthi','LastName':'Priyangha','DateOfBirth':'5-11-2002'}\n",
        "for i in dict1:\n",
        "  print(i,'-',dict1[i])"
      ],
      "metadata": {
        "colab": {
          "base_uri": "https://localhost:8080/"
        },
        "id": "PXMZEaFB-W5s",
        "outputId": "4373e44b-3dfa-4934-efa3-52c5ab757b1e"
      },
      "execution_count": null,
      "outputs": [
        {
          "output_type": "stream",
          "name": "stdout",
          "text": [
            "Rollno - CB.EN.U4CSE20217\n",
            "FirstName - Dheepthi\n",
            "LastName - Priyangha\n",
            "DateOfBirth - 5-11-2002\n"
          ]
        }
      ]
    },
    {
      "cell_type": "code",
      "source": [
        "#3\n",
        "import numpy as np\n",
        "from numpy import random\n",
        "arr=random.rand(3,5)\n",
        "print(arr)"
      ],
      "metadata": {
        "colab": {
          "base_uri": "https://localhost:8080/"
        },
        "id": "_KT8Oq_SCF6g",
        "outputId": "39eaeb9c-d34f-4e50-f22f-71e7398f833a"
      },
      "execution_count": null,
      "outputs": [
        {
          "output_type": "stream",
          "name": "stdout",
          "text": [
            "[[0.6133479  0.48985646 0.05655685 0.62929134 0.43080816]\n",
            " [0.92312726 0.58331939 0.22680224 0.71466083 0.08923426]\n",
            " [0.12749557 0.35660026 0.46644534 0.23716283 0.65695394]]\n"
          ]
        }
      ]
    },
    {
      "cell_type": "code",
      "source": [
        "#4\n",
        "import numpy as np\n",
        "from numpy import random\n",
        "n=random.random()\n",
        "print(n)\n",
        "a=np.abs(-1234)\n",
        "print(a)\n",
        "\n"
      ],
      "metadata": {
        "id": "x72D6p3XCPiL",
        "colab": {
          "base_uri": "https://localhost:8080/"
        },
        "outputId": "545ed78f-40d6-4a21-b104-ef2d2d4d4d4b"
      },
      "execution_count": null,
      "outputs": [
        {
          "output_type": "stream",
          "name": "stdout",
          "text": [
            "0.6906243188822148\n",
            "1234\n"
          ]
        }
      ]
    },
    {
      "cell_type": "code",
      "source": [
        "#5\n",
        "r=random.randint(20,90)\n",
        "print(r)\n"
      ],
      "metadata": {
        "colab": {
          "base_uri": "https://localhost:8080/"
        },
        "id": "y0Ga0weLD6Cr",
        "outputId": "eb10a42c-9f17-41c3-bc1b-7d16d708d05a"
      },
      "execution_count": null,
      "outputs": [
        {
          "output_type": "stream",
          "name": "stdout",
          "text": [
            "76\n"
          ]
        }
      ]
    },
    {
      "cell_type": "code",
      "source": [
        "#6\n",
        "l=[11,12,13,14,15]\n",
        "a=random.choice(l)\n",
        "print(a)\n",
        "random.shuffle(l)\n",
        "print(l)\n"
      ],
      "metadata": {
        "id": "c5giJ0tkGaKy",
        "colab": {
          "base_uri": "https://localhost:8080/"
        },
        "outputId": "54d6da3d-7e23-4231-ca50-a67ca1bee487"
      },
      "execution_count": null,
      "outputs": [
        {
          "output_type": "stream",
          "name": "stdout",
          "text": [
            "11\n",
            "[13, 15, 14, 11, 12]\n"
          ]
        }
      ]
    },
    {
      "cell_type": "code",
      "source": [
        "#7\n",
        "f = open(\"n.txt\", 'w')\n",
        "f.write(\"The King is Dead, Long Live The King\")\n",
        "f.close()\n",
        "f = open(\"n.txt\", \"r\")\n",
        "print(f.read())"
      ],
      "metadata": {
        "id": "ldzV2sw9G4z0",
        "colab": {
          "base_uri": "https://localhost:8080/"
        },
        "outputId": "1ba4f11b-fcaf-445d-868f-4b9e8a24a45c"
      },
      "execution_count": null,
      "outputs": [
        {
          "output_type": "stream",
          "name": "stdout",
          "text": [
            "The King is Dead, Long Live The King\n"
          ]
        }
      ]
    },
    {
      "cell_type": "code",
      "source": [
        "#8\n",
        "n=int(input())\n",
        "if(n>0):\n",
        "  print(\"The number is postive\")\n",
        "elif(n<0):\n",
        "  print(\"The number is negative\")\n",
        "else:\n",
        "  print(\"NULL\")\n",
        "for i in range(20):\n",
        "  if(i%2==0):\n",
        "    continue\n",
        "  print(i)\n",
        "for var in \"DheepthiPriyangha\":\n",
        "    if var == \"P\":\n",
        "        break\n",
        "    print(var)"
      ],
      "metadata": {
        "colab": {
          "base_uri": "https://localhost:8080/"
        },
        "id": "xT5eyFNSG6Ho",
        "outputId": "a8b173ad-addb-40cd-9bda-e755a1fd716e"
      },
      "execution_count": null,
      "outputs": [
        {
          "output_type": "stream",
          "name": "stdout",
          "text": [
            "-9\n",
            "The number is negative\n",
            "1\n",
            "3\n",
            "5\n",
            "7\n",
            "9\n",
            "11\n",
            "13\n",
            "15\n",
            "17\n",
            "19\n",
            "D\n",
            "h\n",
            "e\n",
            "e\n",
            "p\n",
            "t\n",
            "h\n",
            "i\n"
          ]
        }
      ]
    },
    {
      "cell_type": "code",
      "source": [
        "#9\n",
        "str=\"The King is Dead, Long Live The King\"\n",
        "print(str)\n",
        "print(str[0])\n",
        "print(str[3:6])\n",
        "print(str[3:])\n",
        "print(str.split())\n",
        "\n",
        "\n"
      ],
      "metadata": {
        "colab": {
          "base_uri": "https://localhost:8080/"
        },
        "id": "wdzmQj-nJA-r",
        "outputId": "1ca910b6-7ea1-44da-98ea-7d02ebb35552"
      },
      "execution_count": null,
      "outputs": [
        {
          "output_type": "stream",
          "name": "stdout",
          "text": [
            "The King is Dead, Long Live The King\n",
            "T\n",
            " Ki\n",
            " King is Dead, Long Live The King\n",
            "['The', 'King', 'is', 'Dead,', 'Long', 'Live', 'The', 'King']\n"
          ]
        }
      ]
    },
    {
      "cell_type": "code",
      "source": [
        "#10\n",
        "arr=[1.0,4.0,5.0,8.0]\n",
        "print(arr[:2])\n"
      ],
      "metadata": {
        "id": "7kYzrTjcJ5xV",
        "colab": {
          "base_uri": "https://localhost:8080/"
        },
        "outputId": "7f000356-c77e-41df-85e3-c22b0fc40be5"
      },
      "execution_count": null,
      "outputs": [
        {
          "output_type": "stream",
          "name": "stdout",
          "text": [
            "[1.0, 4.0]\n"
          ]
        }
      ]
    },
    {
      "cell_type": "code",
      "source": [
        "#11\n",
        "arr=np.array([[1,2,3],[4,5,6]])\n",
        "print(arr)"
      ],
      "metadata": {
        "colab": {
          "base_uri": "https://localhost:8080/"
        },
        "id": "WcPVXgWjWRN5",
        "outputId": "54b59e7e-8eb8-4ce5-fb91-5db95950ad0b"
      },
      "execution_count": null,
      "outputs": [
        {
          "output_type": "stream",
          "name": "stdout",
          "text": [
            "[[1 2 3]\n",
            " [4 5 6]]\n"
          ]
        }
      ]
    },
    {
      "cell_type": "code",
      "source": [
        "#12\n",
        "arr=np.array([[1,2,3],[4,5,6]])\n",
        "print(arr[1])\n",
        "#print(arr([]))\n",
        "print(len(arr))"
      ],
      "metadata": {
        "colab": {
          "base_uri": "https://localhost:8080/"
        },
        "id": "ZRv6yYZwWkrQ",
        "outputId": "f5f0219b-3d0e-414e-a221-9f2357ee7a9b"
      },
      "execution_count": null,
      "outputs": [
        {
          "output_type": "stream",
          "name": "stdout",
          "text": [
            "[4 5 6]\n",
            "2\n"
          ]
        }
      ]
    },
    {
      "cell_type": "code",
      "source": [
        "#13\n",
        "arr1=np.array([1,2,3,4,5,6,7,8,9,10])\n",
        "a=arr1.reshape(5,2)\n",
        "print(a)\n",
        "print(arr1.transpose())"
      ],
      "metadata": {
        "id": "M3znEqqIk4wo",
        "colab": {
          "base_uri": "https://localhost:8080/"
        },
        "outputId": "90b83d63-9dd8-4d44-e771-5652a6bee63d"
      },
      "execution_count": null,
      "outputs": [
        {
          "output_type": "stream",
          "name": "stdout",
          "text": [
            "[[ 1  2]\n",
            " [ 3  4]\n",
            " [ 5  6]\n",
            " [ 7  8]\n",
            " [ 9 10]]\n",
            "[ 1  2  3  4  5  6  7  8  9 10]\n"
          ]
        }
      ]
    },
    {
      "cell_type": "code",
      "source": [
        "#14\n",
        "\n",
        "\n"
      ],
      "metadata": {
        "id": "uIrgATB-Y30g"
      },
      "execution_count": null,
      "outputs": []
    },
    {
      "cell_type": "code",
      "source": [
        "#15\n",
        "arr=[1,2,3]\n",
        "for i in range(len(arr)):\n",
        "  arr[i]=9\n",
        "print(arr)"
      ],
      "metadata": {
        "colab": {
          "base_uri": "https://localhost:8080/"
        },
        "id": "fhBYImNsg8pz",
        "outputId": "6f43cfaf-0a9a-49fc-aa9a-223c6feaa288"
      },
      "execution_count": null,
      "outputs": [
        {
          "output_type": "stream",
          "name": "stdout",
          "text": [
            "[9, 9, 9]\n"
          ]
        }
      ]
    },
    {
      "cell_type": "code",
      "source": [
        "#16\n",
        "arr=np.array([2,4,5])\n",
        "sum=0\n",
        "for i in arr:\n",
        "  sum+=i\n",
        "print(\"The sum of elements in the array is :\",sum)\n"
      ],
      "metadata": {
        "colab": {
          "base_uri": "https://localhost:8080/"
        },
        "id": "NXqv-UORpJQW",
        "outputId": "cde3eae4-61b4-4529-ff2d-fb0bc66759fc"
      },
      "execution_count": null,
      "outputs": [
        {
          "output_type": "stream",
          "name": "stdout",
          "text": [
            "The sum of elements in the array is : 11\n"
          ]
        }
      ]
    },
    {
      "cell_type": "code",
      "source": [
        "#17\n",
        "arr=[77,74,75]\n",
        "p=1\n",
        "for i in range(len(arr)):\n",
        "  p=p*arr[i]\n",
        "print('The product of the elements in the array is :',p)"
      ],
      "metadata": {
        "colab": {
          "base_uri": "https://localhost:8080/"
        },
        "id": "1J_y5OBphvf5",
        "outputId": "5da7104b-e97a-4df0-c22f-ddf16d9ce329"
      },
      "execution_count": null,
      "outputs": [
        {
          "output_type": "stream",
          "name": "stdout",
          "text": [
            "The product of the elements in the array is : 427350\n"
          ]
        }
      ]
    },
    {
      "cell_type": "code",
      "source": [
        "#18\n",
        "a1=[2,1,9,1,2,22,1,1,4,55,6,2,56]\n",
        "for i in a1:\n",
        "  sum=+i\n",
        "print('mean=',sum/len(a1))\n",
        "print('Max=',max(a1))\n",
        "print('Min=',min(a1))\n",
        "\n",
        "\n"
      ],
      "metadata": {
        "colab": {
          "base_uri": "https://localhost:8080/"
        },
        "id": "ptDr_YKsiJuk",
        "outputId": "95b8aeb2-e918-48cc-ade9-16c5c2cd995f"
      },
      "execution_count": null,
      "outputs": [
        {
          "output_type": "stream",
          "name": "stdout",
          "text": [
            "mean= 4.3076923076923075\n",
            "Max= 56\n",
            "Min= 1\n"
          ]
        }
      ]
    },
    {
      "cell_type": "code",
      "source": [
        "#19\n",
        "arr=[1, 1, 4, 5, 5, 5, 7, 3, 2] \n",
        "l=[]\n",
        "for i in arr:\n",
        "  if(arr.count(i)==1):\n",
        "    l.append(i)\n",
        "l.sort()\n",
        "print(l)\n",
        "  \n"
      ],
      "metadata": {
        "colab": {
          "base_uri": "https://localhost:8080/"
        },
        "id": "enIFHbqsd54q",
        "outputId": "e81dfddb-139e-4a55-b17f-23c808f9a765"
      },
      "execution_count": null,
      "outputs": [
        {
          "output_type": "stream",
          "name": "stdout",
          "text": [
            "[2, 3, 4, 7]\n"
          ]
        }
      ]
    },
    {
      "cell_type": "code",
      "source": [
        "#20\n",
        "a=[1,2,3]\n",
        "b=[0,1,1]\n",
        "l=[]\n",
        "for i in range(len(a)):\n",
        "  l.append(a[i]*b[i])\n",
        "print(l)\n",
        "  "
      ],
      "metadata": {
        "colab": {
          "base_uri": "https://localhost:8080/"
        },
        "id": "y5dk9z4vd7Lz",
        "outputId": "e7a1b501-c3d5-4556-aaef-48765d258325"
      },
      "execution_count": null,
      "outputs": [
        {
          "output_type": "stream",
          "name": "stdout",
          "text": [
            "[0, 2, 3]\n"
          ]
        }
      ]
    },
    {
      "cell_type": "code",
      "source": [
        "#21\n",
        "import numpy as np\n",
        "from numpy.linalg import eig\n",
        "a = np.array([[2, -12], \n",
        "              [1, -5]])\n",
        "w,v=eig(a)\n",
        "print('E-value:', w)\n",
        "print('E-vector', v)"
      ],
      "metadata": {
        "colab": {
          "base_uri": "https://localhost:8080/"
        },
        "id": "VGVyf5v0d8mx",
        "outputId": "77837bf3-c978-4267-e29c-fe1fad263890"
      },
      "execution_count": null,
      "outputs": [
        {
          "output_type": "stream",
          "name": "stdout",
          "text": [
            "E-value: [-1. -2.]\n",
            "E-vector [[0.9701425  0.9486833 ]\n",
            " [0.24253563 0.31622777]]\n"
          ]
        }
      ]
    },
    {
      "cell_type": "code",
      "source": [
        "#22\n",
        "a=np.array([[11, 22, 11, 31], [25, 33, 31, 28]])\n",
        "\n"
      ],
      "metadata": {
        "id": "Vjit2Cf9d94Q"
      },
      "execution_count": null,
      "outputs": []
    },
    {
      "cell_type": "code",
      "source": [
        "def myfunc():\n",
        "  return None\n",
        "print(\"Using __doc__:\") \n",
        "print(myfunc.__doc__)\n",
        "print(\"Using help:\") \n",
        "help(myfunc)"
      ],
      "metadata": {
        "colab": {
          "base_uri": "https://localhost:8080/"
        },
        "id": "ncC2QJO624uB",
        "outputId": "803e9cb9-6487-4e61-ab4b-8617eebfef7c"
      },
      "execution_count": null,
      "outputs": [
        {
          "output_type": "stream",
          "name": "stdout",
          "text": [
            "Using __doc__:\n",
            "None\n",
            "Using help:\n",
            "Help on function myfunc in module __main__:\n",
            "\n",
            "myfunc()\n",
            "\n"
          ]
        }
      ]
    },
    {
      "cell_type": "code",
      "source": [
        "import pandas as pd\n",
        "df = pd.read_csv(\"/content/world_population.csv\")\n",
        "df"
      ],
      "metadata": {
        "colab": {
          "base_uri": "https://localhost:8080/",
          "height": 592
        },
        "id": "xVRh0Ta0dD-k",
        "outputId": "88cdcbab-2374-4435-d1ea-3f7c465d2a3a"
      },
      "execution_count": null,
      "outputs": [
        {
          "output_type": "execute_result",
          "data": {
            "text/plain": [
              "     Rank CCA3            Country           Capital Continent  \\\n",
              "0      36  AFG        Afghanistan             Kabul      Asia   \n",
              "1     138  ALB            Albania            Tirana    Europe   \n",
              "2      34  DZA            Algeria           Algiers    Africa   \n",
              "3     213  ASM     American Samoa         Pago Pago   Oceania   \n",
              "4     203  AND            Andorra  Andorra la Vella    Europe   \n",
              "..    ...  ...                ...               ...       ...   \n",
              "229   226  WLF  Wallis and Futuna          Mata-Utu   Oceania   \n",
              "230   172  ESH     Western Sahara          El Aaiún    Africa   \n",
              "231    46  YEM              Yemen             Sanaa      Asia   \n",
              "232    63  ZMB             Zambia            Lusaka    Africa   \n",
              "233    74  ZWE           Zimbabwe            Harare    Africa   \n",
              "\n",
              "     2022 Population  2020 Population  2015 Population  2010 Population  \\\n",
              "0           41128771         38972230         33753499         28189672   \n",
              "1            2842321          2866849          2882481          2913399   \n",
              "2           44903225         43451666         39543154         35856344   \n",
              "3              44273            46189            51368            54849   \n",
              "4              79824            77700            71746            71519   \n",
              "..               ...              ...              ...              ...   \n",
              "229            11572            11655            12182            13142   \n",
              "230           575986           556048           491824           413296   \n",
              "231         33696614         32284046         28516545         24743946   \n",
              "232         20017675         18927715         16248230         13792086   \n",
              "233         16320537         15669666         14154937         12839771   \n",
              "\n",
              "     2000 Population  1990 Population  1980 Population  1970 Population  \\\n",
              "0           19542982         10694796         12486631         10752971   \n",
              "1            3182021          3295066          2941651          2324731   \n",
              "2           30774621         25518074         18739378         13795915   \n",
              "3              58230            47818            32886            27075   \n",
              "4              66097            53569            35611            19860   \n",
              "..               ...              ...              ...              ...   \n",
              "229            14723            13454            11315             9377   \n",
              "230           270375           178529           116775            76371   \n",
              "231         18628700         13375121          9204938          6843607   \n",
              "232          9891136          7686401          5720438          4281671   \n",
              "233         11834676         10113893          7049926          5202918   \n",
              "\n",
              "     Area (km²)  Density (per km²)  Growth Rate  World Population Percentage  \n",
              "0        652230            63.0587       1.0257                         0.52  \n",
              "1         28748            98.8702       0.9957                         0.04  \n",
              "2       2381741            18.8531       1.0164                         0.56  \n",
              "3           199           222.4774       0.9831                         0.00  \n",
              "4           468           170.5641       1.0100                         0.00  \n",
              "..          ...                ...          ...                          ...  \n",
              "229         142            81.4930       0.9953                         0.00  \n",
              "230      266000             2.1654       1.0184                         0.01  \n",
              "231      527968            63.8232       1.0217                         0.42  \n",
              "232      752612            26.5976       1.0280                         0.25  \n",
              "233      390757            41.7665       1.0204                         0.20  \n",
              "\n",
              "[234 rows x 17 columns]"
            ],
            "text/html": [
              "\n",
              "  <div id=\"df-f8053534-bf45-4cf8-82e2-993fd855930f\">\n",
              "    <div class=\"colab-df-container\">\n",
              "      <div>\n",
              "<style scoped>\n",
              "    .dataframe tbody tr th:only-of-type {\n",
              "        vertical-align: middle;\n",
              "    }\n",
              "\n",
              "    .dataframe tbody tr th {\n",
              "        vertical-align: top;\n",
              "    }\n",
              "\n",
              "    .dataframe thead th {\n",
              "        text-align: right;\n",
              "    }\n",
              "</style>\n",
              "<table border=\"1\" class=\"dataframe\">\n",
              "  <thead>\n",
              "    <tr style=\"text-align: right;\">\n",
              "      <th></th>\n",
              "      <th>Rank</th>\n",
              "      <th>CCA3</th>\n",
              "      <th>Country</th>\n",
              "      <th>Capital</th>\n",
              "      <th>Continent</th>\n",
              "      <th>2022 Population</th>\n",
              "      <th>2020 Population</th>\n",
              "      <th>2015 Population</th>\n",
              "      <th>2010 Population</th>\n",
              "      <th>2000 Population</th>\n",
              "      <th>1990 Population</th>\n",
              "      <th>1980 Population</th>\n",
              "      <th>1970 Population</th>\n",
              "      <th>Area (km²)</th>\n",
              "      <th>Density (per km²)</th>\n",
              "      <th>Growth Rate</th>\n",
              "      <th>World Population Percentage</th>\n",
              "    </tr>\n",
              "  </thead>\n",
              "  <tbody>\n",
              "    <tr>\n",
              "      <th>0</th>\n",
              "      <td>36</td>\n",
              "      <td>AFG</td>\n",
              "      <td>Afghanistan</td>\n",
              "      <td>Kabul</td>\n",
              "      <td>Asia</td>\n",
              "      <td>41128771</td>\n",
              "      <td>38972230</td>\n",
              "      <td>33753499</td>\n",
              "      <td>28189672</td>\n",
              "      <td>19542982</td>\n",
              "      <td>10694796</td>\n",
              "      <td>12486631</td>\n",
              "      <td>10752971</td>\n",
              "      <td>652230</td>\n",
              "      <td>63.0587</td>\n",
              "      <td>1.0257</td>\n",
              "      <td>0.52</td>\n",
              "    </tr>\n",
              "    <tr>\n",
              "      <th>1</th>\n",
              "      <td>138</td>\n",
              "      <td>ALB</td>\n",
              "      <td>Albania</td>\n",
              "      <td>Tirana</td>\n",
              "      <td>Europe</td>\n",
              "      <td>2842321</td>\n",
              "      <td>2866849</td>\n",
              "      <td>2882481</td>\n",
              "      <td>2913399</td>\n",
              "      <td>3182021</td>\n",
              "      <td>3295066</td>\n",
              "      <td>2941651</td>\n",
              "      <td>2324731</td>\n",
              "      <td>28748</td>\n",
              "      <td>98.8702</td>\n",
              "      <td>0.9957</td>\n",
              "      <td>0.04</td>\n",
              "    </tr>\n",
              "    <tr>\n",
              "      <th>2</th>\n",
              "      <td>34</td>\n",
              "      <td>DZA</td>\n",
              "      <td>Algeria</td>\n",
              "      <td>Algiers</td>\n",
              "      <td>Africa</td>\n",
              "      <td>44903225</td>\n",
              "      <td>43451666</td>\n",
              "      <td>39543154</td>\n",
              "      <td>35856344</td>\n",
              "      <td>30774621</td>\n",
              "      <td>25518074</td>\n",
              "      <td>18739378</td>\n",
              "      <td>13795915</td>\n",
              "      <td>2381741</td>\n",
              "      <td>18.8531</td>\n",
              "      <td>1.0164</td>\n",
              "      <td>0.56</td>\n",
              "    </tr>\n",
              "    <tr>\n",
              "      <th>3</th>\n",
              "      <td>213</td>\n",
              "      <td>ASM</td>\n",
              "      <td>American Samoa</td>\n",
              "      <td>Pago Pago</td>\n",
              "      <td>Oceania</td>\n",
              "      <td>44273</td>\n",
              "      <td>46189</td>\n",
              "      <td>51368</td>\n",
              "      <td>54849</td>\n",
              "      <td>58230</td>\n",
              "      <td>47818</td>\n",
              "      <td>32886</td>\n",
              "      <td>27075</td>\n",
              "      <td>199</td>\n",
              "      <td>222.4774</td>\n",
              "      <td>0.9831</td>\n",
              "      <td>0.00</td>\n",
              "    </tr>\n",
              "    <tr>\n",
              "      <th>4</th>\n",
              "      <td>203</td>\n",
              "      <td>AND</td>\n",
              "      <td>Andorra</td>\n",
              "      <td>Andorra la Vella</td>\n",
              "      <td>Europe</td>\n",
              "      <td>79824</td>\n",
              "      <td>77700</td>\n",
              "      <td>71746</td>\n",
              "      <td>71519</td>\n",
              "      <td>66097</td>\n",
              "      <td>53569</td>\n",
              "      <td>35611</td>\n",
              "      <td>19860</td>\n",
              "      <td>468</td>\n",
              "      <td>170.5641</td>\n",
              "      <td>1.0100</td>\n",
              "      <td>0.00</td>\n",
              "    </tr>\n",
              "    <tr>\n",
              "      <th>...</th>\n",
              "      <td>...</td>\n",
              "      <td>...</td>\n",
              "      <td>...</td>\n",
              "      <td>...</td>\n",
              "      <td>...</td>\n",
              "      <td>...</td>\n",
              "      <td>...</td>\n",
              "      <td>...</td>\n",
              "      <td>...</td>\n",
              "      <td>...</td>\n",
              "      <td>...</td>\n",
              "      <td>...</td>\n",
              "      <td>...</td>\n",
              "      <td>...</td>\n",
              "      <td>...</td>\n",
              "      <td>...</td>\n",
              "      <td>...</td>\n",
              "    </tr>\n",
              "    <tr>\n",
              "      <th>229</th>\n",
              "      <td>226</td>\n",
              "      <td>WLF</td>\n",
              "      <td>Wallis and Futuna</td>\n",
              "      <td>Mata-Utu</td>\n",
              "      <td>Oceania</td>\n",
              "      <td>11572</td>\n",
              "      <td>11655</td>\n",
              "      <td>12182</td>\n",
              "      <td>13142</td>\n",
              "      <td>14723</td>\n",
              "      <td>13454</td>\n",
              "      <td>11315</td>\n",
              "      <td>9377</td>\n",
              "      <td>142</td>\n",
              "      <td>81.4930</td>\n",
              "      <td>0.9953</td>\n",
              "      <td>0.00</td>\n",
              "    </tr>\n",
              "    <tr>\n",
              "      <th>230</th>\n",
              "      <td>172</td>\n",
              "      <td>ESH</td>\n",
              "      <td>Western Sahara</td>\n",
              "      <td>El Aaiún</td>\n",
              "      <td>Africa</td>\n",
              "      <td>575986</td>\n",
              "      <td>556048</td>\n",
              "      <td>491824</td>\n",
              "      <td>413296</td>\n",
              "      <td>270375</td>\n",
              "      <td>178529</td>\n",
              "      <td>116775</td>\n",
              "      <td>76371</td>\n",
              "      <td>266000</td>\n",
              "      <td>2.1654</td>\n",
              "      <td>1.0184</td>\n",
              "      <td>0.01</td>\n",
              "    </tr>\n",
              "    <tr>\n",
              "      <th>231</th>\n",
              "      <td>46</td>\n",
              "      <td>YEM</td>\n",
              "      <td>Yemen</td>\n",
              "      <td>Sanaa</td>\n",
              "      <td>Asia</td>\n",
              "      <td>33696614</td>\n",
              "      <td>32284046</td>\n",
              "      <td>28516545</td>\n",
              "      <td>24743946</td>\n",
              "      <td>18628700</td>\n",
              "      <td>13375121</td>\n",
              "      <td>9204938</td>\n",
              "      <td>6843607</td>\n",
              "      <td>527968</td>\n",
              "      <td>63.8232</td>\n",
              "      <td>1.0217</td>\n",
              "      <td>0.42</td>\n",
              "    </tr>\n",
              "    <tr>\n",
              "      <th>232</th>\n",
              "      <td>63</td>\n",
              "      <td>ZMB</td>\n",
              "      <td>Zambia</td>\n",
              "      <td>Lusaka</td>\n",
              "      <td>Africa</td>\n",
              "      <td>20017675</td>\n",
              "      <td>18927715</td>\n",
              "      <td>16248230</td>\n",
              "      <td>13792086</td>\n",
              "      <td>9891136</td>\n",
              "      <td>7686401</td>\n",
              "      <td>5720438</td>\n",
              "      <td>4281671</td>\n",
              "      <td>752612</td>\n",
              "      <td>26.5976</td>\n",
              "      <td>1.0280</td>\n",
              "      <td>0.25</td>\n",
              "    </tr>\n",
              "    <tr>\n",
              "      <th>233</th>\n",
              "      <td>74</td>\n",
              "      <td>ZWE</td>\n",
              "      <td>Zimbabwe</td>\n",
              "      <td>Harare</td>\n",
              "      <td>Africa</td>\n",
              "      <td>16320537</td>\n",
              "      <td>15669666</td>\n",
              "      <td>14154937</td>\n",
              "      <td>12839771</td>\n",
              "      <td>11834676</td>\n",
              "      <td>10113893</td>\n",
              "      <td>7049926</td>\n",
              "      <td>5202918</td>\n",
              "      <td>390757</td>\n",
              "      <td>41.7665</td>\n",
              "      <td>1.0204</td>\n",
              "      <td>0.20</td>\n",
              "    </tr>\n",
              "  </tbody>\n",
              "</table>\n",
              "<p>234 rows × 17 columns</p>\n",
              "</div>\n",
              "      <button class=\"colab-df-convert\" onclick=\"convertToInteractive('df-f8053534-bf45-4cf8-82e2-993fd855930f')\"\n",
              "              title=\"Convert this dataframe to an interactive table.\"\n",
              "              style=\"display:none;\">\n",
              "        \n",
              "  <svg xmlns=\"http://www.w3.org/2000/svg\" height=\"24px\"viewBox=\"0 0 24 24\"\n",
              "       width=\"24px\">\n",
              "    <path d=\"M0 0h24v24H0V0z\" fill=\"none\"/>\n",
              "    <path d=\"M18.56 5.44l.94 2.06.94-2.06 2.06-.94-2.06-.94-.94-2.06-.94 2.06-2.06.94zm-11 1L8.5 8.5l.94-2.06 2.06-.94-2.06-.94L8.5 2.5l-.94 2.06-2.06.94zm10 10l.94 2.06.94-2.06 2.06-.94-2.06-.94-.94-2.06-.94 2.06-2.06.94z\"/><path d=\"M17.41 7.96l-1.37-1.37c-.4-.4-.92-.59-1.43-.59-.52 0-1.04.2-1.43.59L10.3 9.45l-7.72 7.72c-.78.78-.78 2.05 0 2.83L4 21.41c.39.39.9.59 1.41.59.51 0 1.02-.2 1.41-.59l7.78-7.78 2.81-2.81c.8-.78.8-2.07 0-2.86zM5.41 20L4 18.59l7.72-7.72 1.47 1.35L5.41 20z\"/>\n",
              "  </svg>\n",
              "      </button>\n",
              "      \n",
              "  <style>\n",
              "    .colab-df-container {\n",
              "      display:flex;\n",
              "      flex-wrap:wrap;\n",
              "      gap: 12px;\n",
              "    }\n",
              "\n",
              "    .colab-df-convert {\n",
              "      background-color: #E8F0FE;\n",
              "      border: none;\n",
              "      border-radius: 50%;\n",
              "      cursor: pointer;\n",
              "      display: none;\n",
              "      fill: #1967D2;\n",
              "      height: 32px;\n",
              "      padding: 0 0 0 0;\n",
              "      width: 32px;\n",
              "    }\n",
              "\n",
              "    .colab-df-convert:hover {\n",
              "      background-color: #E2EBFA;\n",
              "      box-shadow: 0px 1px 2px rgba(60, 64, 67, 0.3), 0px 1px 3px 1px rgba(60, 64, 67, 0.15);\n",
              "      fill: #174EA6;\n",
              "    }\n",
              "\n",
              "    [theme=dark] .colab-df-convert {\n",
              "      background-color: #3B4455;\n",
              "      fill: #D2E3FC;\n",
              "    }\n",
              "\n",
              "    [theme=dark] .colab-df-convert:hover {\n",
              "      background-color: #434B5C;\n",
              "      box-shadow: 0px 1px 3px 1px rgba(0, 0, 0, 0.15);\n",
              "      filter: drop-shadow(0px 1px 2px rgba(0, 0, 0, 0.3));\n",
              "      fill: #FFFFFF;\n",
              "    }\n",
              "  </style>\n",
              "\n",
              "      <script>\n",
              "        const buttonEl =\n",
              "          document.querySelector('#df-f8053534-bf45-4cf8-82e2-993fd855930f button.colab-df-convert');\n",
              "        buttonEl.style.display =\n",
              "          google.colab.kernel.accessAllowed ? 'block' : 'none';\n",
              "\n",
              "        async function convertToInteractive(key) {\n",
              "          const element = document.querySelector('#df-f8053534-bf45-4cf8-82e2-993fd855930f');\n",
              "          const dataTable =\n",
              "            await google.colab.kernel.invokeFunction('convertToInteractive',\n",
              "                                                     [key], {});\n",
              "          if (!dataTable) return;\n",
              "\n",
              "          const docLinkHtml = 'Like what you see? Visit the ' +\n",
              "            '<a target=\"_blank\" href=https://colab.research.google.com/notebooks/data_table.ipynb>data table notebook</a>'\n",
              "            + ' to learn more about interactive tables.';\n",
              "          element.innerHTML = '';\n",
              "          dataTable['output_type'] = 'display_data';\n",
              "          await google.colab.output.renderOutput(dataTable, element);\n",
              "          const docLink = document.createElement('div');\n",
              "          docLink.innerHTML = docLinkHtml;\n",
              "          element.appendChild(docLink);\n",
              "        }\n",
              "      </script>\n",
              "    </div>\n",
              "  </div>\n",
              "  "
            ]
          },
          "metadata": {},
          "execution_count": 9
        }
      ]
    },
    {
      "cell_type": "code",
      "source": [
        "type(df)"
      ],
      "metadata": {
        "colab": {
          "base_uri": "https://localhost:8080/"
        },
        "id": "1gTnjwP3gZoG",
        "outputId": "00a9a4c6-599b-4489-d3fa-01597bd54a6d"
      },
      "execution_count": null,
      "outputs": [
        {
          "output_type": "execute_result",
          "data": {
            "text/plain": [
              "pandas.core.frame.DataFrame"
            ]
          },
          "metadata": {},
          "execution_count": 11
        }
      ]
    },
    {
      "cell_type": "code",
      "source": [
        "import pandas as pd\n",
        "pd.read_csv('/content/world_population.csv')\n"
      ],
      "metadata": {
        "id": "UAdwSkqUgi10",
        "colab": {
          "base_uri": "https://localhost:8080/",
          "height": 592
        },
        "outputId": "afebf2cd-5e14-4c27-941a-ff881a6cacfc"
      },
      "execution_count": null,
      "outputs": [
        {
          "output_type": "execute_result",
          "data": {
            "text/plain": [
              "     Rank CCA3            Country           Capital Continent  \\\n",
              "0      36  AFG        Afghanistan             Kabul      Asia   \n",
              "1     138  ALB            Albania            Tirana    Europe   \n",
              "2      34  DZA            Algeria           Algiers    Africa   \n",
              "3     213  ASM     American Samoa         Pago Pago   Oceania   \n",
              "4     203  AND            Andorra  Andorra la Vella    Europe   \n",
              "..    ...  ...                ...               ...       ...   \n",
              "229   226  WLF  Wallis and Futuna          Mata-Utu   Oceania   \n",
              "230   172  ESH     Western Sahara          El Aaiún    Africa   \n",
              "231    46  YEM              Yemen             Sanaa      Asia   \n",
              "232    63  ZMB             Zambia            Lusaka    Africa   \n",
              "233    74  ZWE           Zimbabwe            Harare    Africa   \n",
              "\n",
              "     2022 Population  2020 Population  2015 Population  2010 Population  \\\n",
              "0           41128771         38972230         33753499         28189672   \n",
              "1            2842321          2866849          2882481          2913399   \n",
              "2           44903225         43451666         39543154         35856344   \n",
              "3              44273            46189            51368            54849   \n",
              "4              79824            77700            71746            71519   \n",
              "..               ...              ...              ...              ...   \n",
              "229            11572            11655            12182            13142   \n",
              "230           575986           556048           491824           413296   \n",
              "231         33696614         32284046         28516545         24743946   \n",
              "232         20017675         18927715         16248230         13792086   \n",
              "233         16320537         15669666         14154937         12839771   \n",
              "\n",
              "     2000 Population  1990 Population  1980 Population  1970 Population  \\\n",
              "0           19542982         10694796         12486631         10752971   \n",
              "1            3182021          3295066          2941651          2324731   \n",
              "2           30774621         25518074         18739378         13795915   \n",
              "3              58230            47818            32886            27075   \n",
              "4              66097            53569            35611            19860   \n",
              "..               ...              ...              ...              ...   \n",
              "229            14723            13454            11315             9377   \n",
              "230           270375           178529           116775            76371   \n",
              "231         18628700         13375121          9204938          6843607   \n",
              "232          9891136          7686401          5720438          4281671   \n",
              "233         11834676         10113893          7049926          5202918   \n",
              "\n",
              "     Area (km²)  Density (per km²)  Growth Rate  World Population Percentage  \n",
              "0        652230            63.0587       1.0257                         0.52  \n",
              "1         28748            98.8702       0.9957                         0.04  \n",
              "2       2381741            18.8531       1.0164                         0.56  \n",
              "3           199           222.4774       0.9831                         0.00  \n",
              "4           468           170.5641       1.0100                         0.00  \n",
              "..          ...                ...          ...                          ...  \n",
              "229         142            81.4930       0.9953                         0.00  \n",
              "230      266000             2.1654       1.0184                         0.01  \n",
              "231      527968            63.8232       1.0217                         0.42  \n",
              "232      752612            26.5976       1.0280                         0.25  \n",
              "233      390757            41.7665       1.0204                         0.20  \n",
              "\n",
              "[234 rows x 17 columns]"
            ],
            "text/html": [
              "\n",
              "  <div id=\"df-3a1f36dd-8331-40d5-a6b8-c124daff3150\">\n",
              "    <div class=\"colab-df-container\">\n",
              "      <div>\n",
              "<style scoped>\n",
              "    .dataframe tbody tr th:only-of-type {\n",
              "        vertical-align: middle;\n",
              "    }\n",
              "\n",
              "    .dataframe tbody tr th {\n",
              "        vertical-align: top;\n",
              "    }\n",
              "\n",
              "    .dataframe thead th {\n",
              "        text-align: right;\n",
              "    }\n",
              "</style>\n",
              "<table border=\"1\" class=\"dataframe\">\n",
              "  <thead>\n",
              "    <tr style=\"text-align: right;\">\n",
              "      <th></th>\n",
              "      <th>Rank</th>\n",
              "      <th>CCA3</th>\n",
              "      <th>Country</th>\n",
              "      <th>Capital</th>\n",
              "      <th>Continent</th>\n",
              "      <th>2022 Population</th>\n",
              "      <th>2020 Population</th>\n",
              "      <th>2015 Population</th>\n",
              "      <th>2010 Population</th>\n",
              "      <th>2000 Population</th>\n",
              "      <th>1990 Population</th>\n",
              "      <th>1980 Population</th>\n",
              "      <th>1970 Population</th>\n",
              "      <th>Area (km²)</th>\n",
              "      <th>Density (per km²)</th>\n",
              "      <th>Growth Rate</th>\n",
              "      <th>World Population Percentage</th>\n",
              "    </tr>\n",
              "  </thead>\n",
              "  <tbody>\n",
              "    <tr>\n",
              "      <th>0</th>\n",
              "      <td>36</td>\n",
              "      <td>AFG</td>\n",
              "      <td>Afghanistan</td>\n",
              "      <td>Kabul</td>\n",
              "      <td>Asia</td>\n",
              "      <td>41128771</td>\n",
              "      <td>38972230</td>\n",
              "      <td>33753499</td>\n",
              "      <td>28189672</td>\n",
              "      <td>19542982</td>\n",
              "      <td>10694796</td>\n",
              "      <td>12486631</td>\n",
              "      <td>10752971</td>\n",
              "      <td>652230</td>\n",
              "      <td>63.0587</td>\n",
              "      <td>1.0257</td>\n",
              "      <td>0.52</td>\n",
              "    </tr>\n",
              "    <tr>\n",
              "      <th>1</th>\n",
              "      <td>138</td>\n",
              "      <td>ALB</td>\n",
              "      <td>Albania</td>\n",
              "      <td>Tirana</td>\n",
              "      <td>Europe</td>\n",
              "      <td>2842321</td>\n",
              "      <td>2866849</td>\n",
              "      <td>2882481</td>\n",
              "      <td>2913399</td>\n",
              "      <td>3182021</td>\n",
              "      <td>3295066</td>\n",
              "      <td>2941651</td>\n",
              "      <td>2324731</td>\n",
              "      <td>28748</td>\n",
              "      <td>98.8702</td>\n",
              "      <td>0.9957</td>\n",
              "      <td>0.04</td>\n",
              "    </tr>\n",
              "    <tr>\n",
              "      <th>2</th>\n",
              "      <td>34</td>\n",
              "      <td>DZA</td>\n",
              "      <td>Algeria</td>\n",
              "      <td>Algiers</td>\n",
              "      <td>Africa</td>\n",
              "      <td>44903225</td>\n",
              "      <td>43451666</td>\n",
              "      <td>39543154</td>\n",
              "      <td>35856344</td>\n",
              "      <td>30774621</td>\n",
              "      <td>25518074</td>\n",
              "      <td>18739378</td>\n",
              "      <td>13795915</td>\n",
              "      <td>2381741</td>\n",
              "      <td>18.8531</td>\n",
              "      <td>1.0164</td>\n",
              "      <td>0.56</td>\n",
              "    </tr>\n",
              "    <tr>\n",
              "      <th>3</th>\n",
              "      <td>213</td>\n",
              "      <td>ASM</td>\n",
              "      <td>American Samoa</td>\n",
              "      <td>Pago Pago</td>\n",
              "      <td>Oceania</td>\n",
              "      <td>44273</td>\n",
              "      <td>46189</td>\n",
              "      <td>51368</td>\n",
              "      <td>54849</td>\n",
              "      <td>58230</td>\n",
              "      <td>47818</td>\n",
              "      <td>32886</td>\n",
              "      <td>27075</td>\n",
              "      <td>199</td>\n",
              "      <td>222.4774</td>\n",
              "      <td>0.9831</td>\n",
              "      <td>0.00</td>\n",
              "    </tr>\n",
              "    <tr>\n",
              "      <th>4</th>\n",
              "      <td>203</td>\n",
              "      <td>AND</td>\n",
              "      <td>Andorra</td>\n",
              "      <td>Andorra la Vella</td>\n",
              "      <td>Europe</td>\n",
              "      <td>79824</td>\n",
              "      <td>77700</td>\n",
              "      <td>71746</td>\n",
              "      <td>71519</td>\n",
              "      <td>66097</td>\n",
              "      <td>53569</td>\n",
              "      <td>35611</td>\n",
              "      <td>19860</td>\n",
              "      <td>468</td>\n",
              "      <td>170.5641</td>\n",
              "      <td>1.0100</td>\n",
              "      <td>0.00</td>\n",
              "    </tr>\n",
              "    <tr>\n",
              "      <th>...</th>\n",
              "      <td>...</td>\n",
              "      <td>...</td>\n",
              "      <td>...</td>\n",
              "      <td>...</td>\n",
              "      <td>...</td>\n",
              "      <td>...</td>\n",
              "      <td>...</td>\n",
              "      <td>...</td>\n",
              "      <td>...</td>\n",
              "      <td>...</td>\n",
              "      <td>...</td>\n",
              "      <td>...</td>\n",
              "      <td>...</td>\n",
              "      <td>...</td>\n",
              "      <td>...</td>\n",
              "      <td>...</td>\n",
              "      <td>...</td>\n",
              "    </tr>\n",
              "    <tr>\n",
              "      <th>229</th>\n",
              "      <td>226</td>\n",
              "      <td>WLF</td>\n",
              "      <td>Wallis and Futuna</td>\n",
              "      <td>Mata-Utu</td>\n",
              "      <td>Oceania</td>\n",
              "      <td>11572</td>\n",
              "      <td>11655</td>\n",
              "      <td>12182</td>\n",
              "      <td>13142</td>\n",
              "      <td>14723</td>\n",
              "      <td>13454</td>\n",
              "      <td>11315</td>\n",
              "      <td>9377</td>\n",
              "      <td>142</td>\n",
              "      <td>81.4930</td>\n",
              "      <td>0.9953</td>\n",
              "      <td>0.00</td>\n",
              "    </tr>\n",
              "    <tr>\n",
              "      <th>230</th>\n",
              "      <td>172</td>\n",
              "      <td>ESH</td>\n",
              "      <td>Western Sahara</td>\n",
              "      <td>El Aaiún</td>\n",
              "      <td>Africa</td>\n",
              "      <td>575986</td>\n",
              "      <td>556048</td>\n",
              "      <td>491824</td>\n",
              "      <td>413296</td>\n",
              "      <td>270375</td>\n",
              "      <td>178529</td>\n",
              "      <td>116775</td>\n",
              "      <td>76371</td>\n",
              "      <td>266000</td>\n",
              "      <td>2.1654</td>\n",
              "      <td>1.0184</td>\n",
              "      <td>0.01</td>\n",
              "    </tr>\n",
              "    <tr>\n",
              "      <th>231</th>\n",
              "      <td>46</td>\n",
              "      <td>YEM</td>\n",
              "      <td>Yemen</td>\n",
              "      <td>Sanaa</td>\n",
              "      <td>Asia</td>\n",
              "      <td>33696614</td>\n",
              "      <td>32284046</td>\n",
              "      <td>28516545</td>\n",
              "      <td>24743946</td>\n",
              "      <td>18628700</td>\n",
              "      <td>13375121</td>\n",
              "      <td>9204938</td>\n",
              "      <td>6843607</td>\n",
              "      <td>527968</td>\n",
              "      <td>63.8232</td>\n",
              "      <td>1.0217</td>\n",
              "      <td>0.42</td>\n",
              "    </tr>\n",
              "    <tr>\n",
              "      <th>232</th>\n",
              "      <td>63</td>\n",
              "      <td>ZMB</td>\n",
              "      <td>Zambia</td>\n",
              "      <td>Lusaka</td>\n",
              "      <td>Africa</td>\n",
              "      <td>20017675</td>\n",
              "      <td>18927715</td>\n",
              "      <td>16248230</td>\n",
              "      <td>13792086</td>\n",
              "      <td>9891136</td>\n",
              "      <td>7686401</td>\n",
              "      <td>5720438</td>\n",
              "      <td>4281671</td>\n",
              "      <td>752612</td>\n",
              "      <td>26.5976</td>\n",
              "      <td>1.0280</td>\n",
              "      <td>0.25</td>\n",
              "    </tr>\n",
              "    <tr>\n",
              "      <th>233</th>\n",
              "      <td>74</td>\n",
              "      <td>ZWE</td>\n",
              "      <td>Zimbabwe</td>\n",
              "      <td>Harare</td>\n",
              "      <td>Africa</td>\n",
              "      <td>16320537</td>\n",
              "      <td>15669666</td>\n",
              "      <td>14154937</td>\n",
              "      <td>12839771</td>\n",
              "      <td>11834676</td>\n",
              "      <td>10113893</td>\n",
              "      <td>7049926</td>\n",
              "      <td>5202918</td>\n",
              "      <td>390757</td>\n",
              "      <td>41.7665</td>\n",
              "      <td>1.0204</td>\n",
              "      <td>0.20</td>\n",
              "    </tr>\n",
              "  </tbody>\n",
              "</table>\n",
              "<p>234 rows × 17 columns</p>\n",
              "</div>\n",
              "      <button class=\"colab-df-convert\" onclick=\"convertToInteractive('df-3a1f36dd-8331-40d5-a6b8-c124daff3150')\"\n",
              "              title=\"Convert this dataframe to an interactive table.\"\n",
              "              style=\"display:none;\">\n",
              "        \n",
              "  <svg xmlns=\"http://www.w3.org/2000/svg\" height=\"24px\"viewBox=\"0 0 24 24\"\n",
              "       width=\"24px\">\n",
              "    <path d=\"M0 0h24v24H0V0z\" fill=\"none\"/>\n",
              "    <path d=\"M18.56 5.44l.94 2.06.94-2.06 2.06-.94-2.06-.94-.94-2.06-.94 2.06-2.06.94zm-11 1L8.5 8.5l.94-2.06 2.06-.94-2.06-.94L8.5 2.5l-.94 2.06-2.06.94zm10 10l.94 2.06.94-2.06 2.06-.94-2.06-.94-.94-2.06-.94 2.06-2.06.94z\"/><path d=\"M17.41 7.96l-1.37-1.37c-.4-.4-.92-.59-1.43-.59-.52 0-1.04.2-1.43.59L10.3 9.45l-7.72 7.72c-.78.78-.78 2.05 0 2.83L4 21.41c.39.39.9.59 1.41.59.51 0 1.02-.2 1.41-.59l7.78-7.78 2.81-2.81c.8-.78.8-2.07 0-2.86zM5.41 20L4 18.59l7.72-7.72 1.47 1.35L5.41 20z\"/>\n",
              "  </svg>\n",
              "      </button>\n",
              "      \n",
              "  <style>\n",
              "    .colab-df-container {\n",
              "      display:flex;\n",
              "      flex-wrap:wrap;\n",
              "      gap: 12px;\n",
              "    }\n",
              "\n",
              "    .colab-df-convert {\n",
              "      background-color: #E8F0FE;\n",
              "      border: none;\n",
              "      border-radius: 50%;\n",
              "      cursor: pointer;\n",
              "      display: none;\n",
              "      fill: #1967D2;\n",
              "      height: 32px;\n",
              "      padding: 0 0 0 0;\n",
              "      width: 32px;\n",
              "    }\n",
              "\n",
              "    .colab-df-convert:hover {\n",
              "      background-color: #E2EBFA;\n",
              "      box-shadow: 0px 1px 2px rgba(60, 64, 67, 0.3), 0px 1px 3px 1px rgba(60, 64, 67, 0.15);\n",
              "      fill: #174EA6;\n",
              "    }\n",
              "\n",
              "    [theme=dark] .colab-df-convert {\n",
              "      background-color: #3B4455;\n",
              "      fill: #D2E3FC;\n",
              "    }\n",
              "\n",
              "    [theme=dark] .colab-df-convert:hover {\n",
              "      background-color: #434B5C;\n",
              "      box-shadow: 0px 1px 3px 1px rgba(0, 0, 0, 0.15);\n",
              "      filter: drop-shadow(0px 1px 2px rgba(0, 0, 0, 0.3));\n",
              "      fill: #FFFFFF;\n",
              "    }\n",
              "  </style>\n",
              "\n",
              "      <script>\n",
              "        const buttonEl =\n",
              "          document.querySelector('#df-3a1f36dd-8331-40d5-a6b8-c124daff3150 button.colab-df-convert');\n",
              "        buttonEl.style.display =\n",
              "          google.colab.kernel.accessAllowed ? 'block' : 'none';\n",
              "\n",
              "        async function convertToInteractive(key) {\n",
              "          const element = document.querySelector('#df-3a1f36dd-8331-40d5-a6b8-c124daff3150');\n",
              "          const dataTable =\n",
              "            await google.colab.kernel.invokeFunction('convertToInteractive',\n",
              "                                                     [key], {});\n",
              "          if (!dataTable) return;\n",
              "\n",
              "          const docLinkHtml = 'Like what you see? Visit the ' +\n",
              "            '<a target=\"_blank\" href=https://colab.research.google.com/notebooks/data_table.ipynb>data table notebook</a>'\n",
              "            + ' to learn more about interactive tables.';\n",
              "          element.innerHTML = '';\n",
              "          dataTable['output_type'] = 'display_data';\n",
              "          await google.colab.output.renderOutput(dataTable, element);\n",
              "          const docLink = document.createElement('div');\n",
              "          docLink.innerHTML = docLinkHtml;\n",
              "          element.appendChild(docLink);\n",
              "        }\n",
              "      </script>\n",
              "    </div>\n",
              "  </div>\n",
              "  "
            ]
          },
          "metadata": {},
          "execution_count": 10
        }
      ]
    },
    {
      "cell_type": "code",
      "source": [
        "import pandas as pd\n",
        "df=pd.read_csv('https://raw.githubusercontent.com/flaviovdf/evcomp2018/master/data/nba_salaries.csv')\n",
        "print(df.to_string())"
      ],
      "metadata": {
        "colab": {
          "base_uri": "https://localhost:8080/"
        },
        "id": "7mV7srwywO-v",
        "outputId": "099d8927-eaed-4987-e9d9-97cf611fd354"
      },
      "execution_count": null,
      "outputs": [
        {
          "output_type": "stream",
          "name": "stdout",
          "text": [
            "                       PLAYER POSITION                    TEAM     SALARY\n",
            "0                Paul Millsap       PF           Atlanta Hawks  18.671659\n",
            "1                  Al Horford        C           Atlanta Hawks  12.000000\n",
            "2              Tiago Splitter        C           Atlanta Hawks   9.756250\n",
            "3                 Jeff Teague       PG           Atlanta Hawks   8.000000\n",
            "4                 Kyle Korver       SG           Atlanta Hawks   5.746479\n",
            "5             Thabo Sefolosha       SF           Atlanta Hawks   4.000000\n",
            "6                  Mike Scott       PF           Atlanta Hawks   3.333333\n",
            "7               Kent Bazemore       SF           Atlanta Hawks   2.000000\n",
            "8             Dennis Schroder       PG           Atlanta Hawks   1.763400\n",
            "9            Tim Hardaway Jr.       SG           Atlanta Hawks   1.304520\n",
            "10             Walter Tavares        C           Atlanta Hawks   1.000000\n",
            "11           Jason Richardson       SG           Atlanta Hawks   0.947276\n",
            "12            Lamar Patterson       SG           Atlanta Hawks   0.525093\n",
            "13            Terran Petteway       SG           Atlanta Hawks   0.525093\n",
            "14              Avery Bradley       PG          Boston Celtics   7.730337\n",
            "15              Isaiah Thomas       PG          Boston Celtics   6.912869\n",
            "16                Jae Crowder       SF          Boston Celtics   6.796117\n",
            "17              Jonas Jerebko       PF          Boston Celtics   5.000000\n",
            "18               Marcus Smart       PG          Boston Celtics   3.431040\n",
            "19                Evan Turner       SG          Boston Celtics   3.425510\n",
            "20               Tyler Zeller        C          Boston Celtics   2.616975\n",
            "21            Jared Sullinger        C          Boston Celtics   2.569260\n",
            "22               Kelly Olynyk        C          Boston Celtics   2.165160\n",
            "23                Perry Jones       SF          Boston Celtics   2.038206\n",
            "24               Terry Rozier       PG          Boston Celtics   1.824360\n",
            "25                James Young       SG          Boston Celtics   1.749840\n",
            "26               Zoran Dragic       SG          Boston Celtics   1.706225\n",
            "27              Jordan Mickey       PF          Boston Celtics   1.170960\n",
            "28                R.J. Hunter       SG          Boston Celtics   1.148640\n",
            "29                Joe Johnson       SF           Brooklyn Nets  24.894863\n",
            "30             Thaddeus Young       PF           Brooklyn Nets  11.235955\n",
            "31               Jarrett Jack       PG           Brooklyn Nets   6.300000\n",
            "32           Bojan Bogdanovic       SG           Brooklyn Nets   3.425510\n",
            "33             Sergey Karasev       SG           Brooklyn Nets   1.599840\n",
            "34            Wayne Ellington       SG           Brooklyn Nets   1.500000\n",
            "35               Shane Larkin       PG           Brooklyn Nets   1.500000\n",
            "36            Andrea Bargnani        C           Brooklyn Nets   1.362897\n",
            "37    Rondae Hollis-Jefferson       SG           Brooklyn Nets   1.335480\n",
            "38                 Earl Clark       SF           Brooklyn Nets   1.185784\n",
            "39           Chris McCullough       PF           Brooklyn Nets   1.140240\n",
            "40            Thomas Robinson       PF           Brooklyn Nets   0.981348\n",
            "41               Markel Brown       SG           Brooklyn Nets   0.845059\n",
            "42               Al Jefferson        C       Charlotte Hornets  13.500000\n",
            "43              Nicolas Batum       SG       Charlotte Hornets  13.125306\n",
            "44               Kemba Walker       PG       Charlotte Hornets  12.000000\n",
            "45            Marvin Williams       PF       Charlotte Hornets   7.000000\n",
            "46     Michael Kidd-Gilchrist       SF       Charlotte Hornets   6.331404\n",
            "47              Spencer Hawes       PF       Charlotte Hornets   6.110034\n",
            "48               Courtney Lee       SG       Charlotte Hornets   5.675000\n",
            "49                Cody Zeller        C       Charlotte Hornets   4.204200\n",
            "50                Jeremy Lamb       SG       Charlotte Hornets   3.034356\n",
            "51              Brian Roberts       PG       Charlotte Hornets   2.854940\n",
            "52         Frank Kaminsky III        C       Charlotte Hornets   2.612520\n",
            "53                 Jeremy Lin       PG       Charlotte Hornets   2.139000\n",
            "54              P.J. Hairston       SF       Charlotte Hornets   1.201440\n",
            "55             Damien Wilkins       SG       Charlotte Hornets   0.947276\n",
            "56            Jorge Gutierrez       PG       Charlotte Hornets   0.947276\n",
            "57           Tyler Hansbrough       PF       Charlotte Hornets   0.947276\n",
            "58               Troy Daniels       SG       Charlotte Hornets   0.947276\n",
            "59             Aaron Harrison       SG       Charlotte Hornets   0.525093\n",
            "60               Derrick Rose       PG           Chicago Bulls  20.093064\n",
            "61               Jimmy Butler       SG           Chicago Bulls  16.407500\n",
            "62                Joakim Noah        C           Chicago Bulls  13.400000\n",
            "63                  Pau Gasol        C           Chicago Bulls   7.448760\n",
            "64             Nikola Mirotic       PF           Chicago Bulls   5.543725\n",
            "65              Mike Dunleavy       SG           Chicago Bulls   4.500000\n",
            "66               Kirk Hinrich       SG           Chicago Bulls   2.854940\n",
            "67             Doug McDermott       SF           Chicago Bulls   2.380440\n",
            "68               Aaron Brooks       PG           Chicago Bulls   2.250000\n",
            "69                 Tony Snell       SF           Chicago Bulls   1.535880\n",
            "70               Bobby Portis       PF           Chicago Bulls   1.391160\n",
            "71              E'Twaun Moore       SG           Chicago Bulls   1.015421\n",
            "72               LeBron James       SF     Cleveland Cavaliers  22.970500\n",
            "73                 Kevin Love       PF     Cleveland Cavaliers  19.689000\n",
            "74               Kyrie Irving       PG     Cleveland Cavaliers  16.407501\n",
            "75           Tristan Thompson        C     Cleveland Cavaliers  14.260870\n",
            "76            Brendan Haywood        C     Cleveland Cavaliers  10.522500\n",
            "77              Iman Shumpert       SG     Cleveland Cavaliers   8.988765\n",
            "78             Timofey Mozgov        C     Cleveland Cavaliers   4.950000\n",
            "79                Mo Williams       PG     Cleveland Cavaliers   2.100000\n",
            "80                 Sasha Kaun        C     Cleveland Cavaliers   1.276000\n",
            "81        Matthew Dellavedova       PG     Cleveland Cavaliers   1.147276\n",
            "82                  David Lee       PF        Dallas Mavericks  15.493680\n",
            "83           Chandler Parsons       SF        Dallas Mavericks  15.361500\n",
            "84              Dirk Nowitzki       PF        Dallas Mavericks   8.333334\n",
            "85             Deron Williams       PG        Dallas Mavericks   5.378974\n",
            "86              Zaza Pachulia        C        Dallas Mavericks   5.200000\n",
            "87                 J.J. Barea       PG        Dallas Mavericks   4.290000\n",
            "88               Devin Harris       PG        Dallas Mavericks   4.053446\n",
            "89             Raymond Felton       PG        Dallas Mavericks   3.950313\n",
            "90            Justin Anderson       SG        Dallas Mavericks   1.449000\n",
            "91               JaVale McGee        C        Dallas Mavericks   1.270964\n",
            "92               John Jenkins       SG        Dallas Mavericks   0.981348\n",
            "93           Danilo Gallinari       SF          Denver Nuggets  14.000000\n",
            "94             Kenneth Faried       PF          Denver Nuggets  11.235955\n",
            "95            Wilson Chandler       SF          Denver Nuggets  10.449438\n",
            "96                 JJ Hickson        C          Denver Nuggets   5.613500\n",
            "97              Jameer Nelson       PG          Denver Nuggets   4.345000\n",
            "98                Will Barton       SF          Denver Nuggets   3.533333\n",
            "99            Emmanuel Mudiay       PG          Denver Nuggets   3.102240\n",
            "100            Darrell Arthur       PF          Denver Nuggets   2.814000\n",
            "101              Jusuf Nurkic        C          Denver Nuggets   1.842000\n",
            "102         Joffrey Lauvergne        C          Denver Nuggets   1.709719\n",
            "103               Gary Harris       SG          Denver Nuggets   1.584480\n",
            "104              Nikola Jokic        C          Denver Nuggets   1.300000\n",
            "105       Kostas Papanikolaou       SF          Denver Nuggets   0.800321\n",
            "106           Sean Kilpatrick       SG          Denver Nuggets   0.099418\n",
            "107            Reggie Jackson       PG         Detroit Pistons  13.913044\n",
            "108               Aron Baynes        C         Detroit Pistons   6.500000\n",
            "109               Jodie Meeks       SG         Detroit Pistons   6.270000\n",
            "110            Andre Drummond        C         Detroit Pistons   3.272091\n",
            "111  Kentavious Caldwell-Pope       SG         Detroit Pistons   2.891760\n",
            "112           Stanley Johnson       SF         Detroit Pistons   2.841960\n",
            "113              Joel Anthony        C         Detroit Pistons   2.500000\n",
            "114             Danny Granger       SF         Detroit Pistons   2.170465\n",
            "115            Reggie Bullock       SF         Detroit Pistons   1.252440\n",
            "116           Darrun Hilliard       SF         Detroit Pistons   0.600000\n",
            "117             Klay Thompson       SG   Golden State Warriors  15.501000\n",
            "118            Draymond Green       PF   Golden State Warriors  14.260870\n",
            "119              Andrew Bogut        C   Golden State Warriors  13.800000\n",
            "120            Andre Iguodala       SF   Golden State Warriors  11.710456\n",
            "121             Stephen Curry       PG   Golden State Warriors  11.370786\n",
            "122            Jason Thompson       PF   Golden State Warriors   7.008475\n",
            "123          Shaun Livingston       PG   Golden State Warriors   5.543725\n",
            "124           Harrison Barnes       SF   Golden State Warriors   3.873398\n",
            "125         Marreese Speights        C   Golden State Warriors   3.815000\n",
            "126           Leandro Barbosa       SG   Golden State Warriors   2.500000\n",
            "127              Festus Ezeli        C   Golden State Warriors   2.008748\n",
            "128              Brandon Rush       SF   Golden State Warriors   1.270964\n",
            "129              Kevon Looney       SF   Golden State Warriors   1.131960\n",
            "130          Anderson Varejao       PF   Golden State Warriors   0.289755\n",
            "131             Dwight Howard        C         Houston Rockets  22.359364\n",
            "132              James Harden       SG         Houston Rockets  15.756438\n",
            "133                 Ty Lawson       PG         Houston Rockets  12.404495\n",
            "134              Corey Brewer       SG         Houston Rockets   8.229375\n",
            "135              Trevor Ariza       SF         Houston Rockets   8.193030\n",
            "136          Patrick Beverley       PG         Houston Rockets   6.486486\n",
            "137            K.J. McDaniels       SG         Houston Rockets   3.189794\n",
            "138            Terrence Jones       PF         Houston Rockets   2.489530\n",
            "139        Donatas Motiejunas       PF         Houston Rockets   2.288205\n",
            "140                Sam Dekker       SF         Houston Rockets   1.646400\n",
            "141              Clint Capela       PF         Houston Rockets   1.242720\n",
            "142          Montrezl Harrell       PF         Houston Rockets   1.000000\n",
            "143               Paul George       SF          Indiana Pacers  17.120106\n",
            "144               Monta Ellis       SG          Indiana Pacers  10.300000\n",
            "145            Rodney Stuckey       PG          Indiana Pacers   7.000000\n",
            "146            Chase Budinger       SF          Indiana Pacers   5.000000\n",
            "147                C.J. Miles       SF          Indiana Pacers   4.394225\n",
            "148               Lavoy Allen       PF          Indiana Pacers   4.050000\n",
            "149               Jordan Hill        C          Indiana Pacers   4.000000\n",
            "150               Ian Mahinmi        C          Indiana Pacers   4.000000\n",
            "151              Myles Turner       PF          Indiana Pacers   2.357760\n",
            "152              Solomon Hill       SF          Indiana Pacers   1.358880\n",
            "153        Glenn Robinson III       SG          Indiana Pacers   1.100000\n",
            "154          Rakeem Christmas       PF          Indiana Pacers   1.007026\n",
            "155                 Joe Young       PG          Indiana Pacers   1.007026\n",
            "156                Chris Paul       PG    Los Angeles Clippers  21.468695\n",
            "157             Blake Griffin       PF    Los Angeles Clippers  18.907726\n",
            "158               J.J. Redick       SG    Los Angeles Clippers   7.085000\n",
            "159            Jamal Crawford       SG    Los Angeles Clippers   5.675000\n",
            "160               Paul Pierce       SF    Los Angeles Clippers   3.376000\n",
            "161             Austin Rivers       PG    Los Angeles Clippers   3.110796\n",
            "162               C.J. Wilcox       SG    Los Angeles Clippers   1.159680\n",
            "163              Cole Aldrich        C    Los Angeles Clippers   1.100602\n",
            "164            Wesley Johnson       SF    Los Angeles Clippers   1.100602\n",
            "165           Jordan Hamilton       SG    Los Angeles Clippers   1.015421\n",
            "166             Lester Hudson       SG    Los Angeles Clippers   1.015421\n",
            "167            Pablo Prigioni       PG    Los Angeles Clippers   0.947726\n",
            "168                Jeff Ayres       PF    Los Angeles Clippers   0.111444\n",
            "169               Kobe Bryant       SF      Los Angeles Lakers  25.000000\n",
            "170               Roy Hibbert        C      Los Angeles Lakers  15.592217\n",
            "171            Louis Williams       SG      Los Angeles Lakers   7.000000\n",
            "172                Nick Young       SF      Los Angeles Lakers   5.219169\n",
            "173          D'Angelo Russell       PG      Los Angeles Lakers   5.103120\n",
            "174             Julius Randle       PF      Los Angeles Lakers   3.132240\n",
            "175              Brandon Bass       PF      Los Angeles Lakers   3.000000\n",
            "176                Ryan Kelly       PF      Los Angeles Lakers   1.724250\n",
            "177           Larry Nance Jr.       PF      Los Angeles Lakers   1.155600\n",
            "178              Robert Sacre        C      Los Angeles Lakers   0.981348\n",
            "179             Anthony Brown       SF      Los Angeles Lakers   0.700000\n",
            "180                Marc Gasol        C       Memphis Grizzlies  19.688000\n",
            "181             Zach Randolph       PF       Memphis Grizzlies   9.638555\n",
            "182               Mike Conley       PG       Memphis Grizzlies   9.588426\n",
            "183                Jeff Green       SF       Memphis Grizzlies   9.450000\n",
            "184          Lance Stephenson       SF       Memphis Grizzlies   9.000000\n",
            "185            Brandan Wright       PF       Memphis Grizzlies   5.464000\n",
            "186                Tony Allen       SG       Memphis Grizzlies   5.158539\n",
            "187            Chris Andersen       PF       Memphis Grizzlies   5.000000\n",
            "188            Mario Chalmers       PG       Memphis Grizzlies   4.300000\n",
            "189              Vince Carter       SG       Memphis Grizzlies   4.088019\n",
            "190               Matt Barnes       SF       Memphis Grizzlies   3.542500\n",
            "191                Beno Udrih       PG       Memphis Grizzlies   2.170465\n",
            "192              Jordan Adams       SG       Memphis Grizzlies   1.404600\n",
            "193             Jarell Martin       PF       Memphis Grizzlies   1.230840\n",
            "194            JaMychal Green       PF       Memphis Grizzlies   0.845059\n",
            "195                Russ Smith       PG       Memphis Grizzlies   0.845059\n",
            "196               James Ennis       SF       Memphis Grizzlies   0.845059\n",
            "197            Jarnell Stokes       PF       Memphis Grizzlies   0.845059\n",
            "198             Jarrid Famous       PF       Memphis Grizzlies   0.525093\n",
            "199              Ryan Hollins        C       Memphis Grizzlies   0.111444\n",
            "200           Elliot Williams       SG       Memphis Grizzlies   0.055722\n",
            "201                Chris Bosh       PF              Miami Heat  22.192730\n",
            "202               Dwyane Wade       SG              Miami Heat  20.000000\n",
            "203              Goran Dragic       PG              Miami Heat  14.783000\n",
            "204                 Luol Deng       SF              Miami Heat  10.151612\n",
            "205            Josh McRoberts       PF              Miami Heat   5.543725\n",
            "206             Udonis Haslem       PF              Miami Heat   2.854940\n",
            "207           Justise Winslow       SF              Miami Heat   2.481720\n",
            "208              Henry Walker       SF              Miami Heat   1.100602\n",
            "209             Tyler Johnson       SG              Miami Heat   0.845059\n",
            "210          Greg Whittington       SF              Miami Heat   0.525093\n",
            "211           Josh Richardson       SG              Miami Heat   0.525093\n",
            "212             Corey Hawkins       PG              Miami Heat   0.525093\n",
            "213           Khris Middleton       SG         Milwaukee Bucks  14.700000\n",
            "214                 O.J. Mayo       SG         Milwaukee Bucks   8.000000\n",
            "215           Greivis Vasquez       PG         Milwaukee Bucks   6.600000\n",
            "216             Jabari Parker       PF         Milwaukee Bucks   5.152440\n",
            "217            Jerryd Bayless       PG         Milwaukee Bucks   3.000000\n",
            "218               John Henson       PF         Milwaukee Bucks   2.943221\n",
            "219   Michael Carter-Williams       PG         Milwaukee Bucks   2.399040\n",
            "220             Miles Plumlee        C         Milwaukee Bucks   2.109294\n",
            "221     Giannis Antetokounmpo       SF         Milwaukee Bucks   1.953960\n",
            "222             Rashad Vaughn       SG         Milwaukee Bucks   1.733040\n",
            "223               Tyler Ennis       PG         Milwaukee Bucks   1.662360\n",
            "224            Chris Copeland       SF         Milwaukee Bucks   1.150000\n",
            "225             Damien Inglis       SF         Milwaukee Bucks   0.855000\n",
            "226               Ricky Rubio       PG  Minnesota Timberwolves  12.700000\n",
            "227            Nikola Pekovic        C  Minnesota Timberwolves  12.100000\n",
            "228             Kevin Garnett       PF  Minnesota Timberwolves   8.500000\n",
            "229              Kevin Martin       SG  Minnesota Timberwolves   7.085000\n",
            "230            Andrew Wiggins       SG  Minnesota Timberwolves   5.758680\n",
            "231        Karl-Anthony Towns        C  Minnesota Timberwolves   5.703600\n",
            "232           Nemanja Bjelica       PF  Minnesota Timberwolves   3.950001\n",
            "233               Zach LaVine       PG  Minnesota Timberwolves   2.148360\n",
            "234          Shabazz Muhammad       SF  Minnesota Timberwolves   2.056920\n",
            "235             Adreian Payne       PF  Minnesota Timberwolves   1.938840\n",
            "236              Gorgui Dieng        C  Minnesota Timberwolves   1.474440\n",
            "237                Tyus Jones       PG  Minnesota Timberwolves   1.282080\n",
            "238              Damjan Rudez       SF  Minnesota Timberwolves   1.149500\n",
            "239               Eric Gordon       SG    New Orleans Pelicans  15.514031\n",
            "240              Tyreke Evans       SG    New Orleans Pelicans  10.734586\n",
            "241              Jrue Holiday       PG    New Orleans Pelicans  10.595507\n",
            "242                 Omer Asik        C    New Orleans Pelicans   9.213483\n",
            "243             Ryan Anderson       PF    New Orleans Pelicans   8.500000\n",
            "244             Anthony Davis       PF    New Orleans Pelicans   7.070730\n",
            "245             Alexis Ajinca        C    New Orleans Pelicans   4.389607\n",
            "246          Quincy Pondexter       SF    New Orleans Pelicans   3.382023\n",
            "247               Norris Cole       PG    New Orleans Pelicans   3.036927\n",
            "248          Dante Cunningham       PF    New Orleans Pelicans   2.850000\n",
            "249                Alonzo Gee       SF    New Orleans Pelicans   1.320000\n",
            "250             Toney Douglas       PG    New Orleans Pelicans   1.164858\n",
            "251              Luke Babbitt       SF    New Orleans Pelicans   1.100602\n",
            "252          Kendrick Perkins        C    New Orleans Pelicans   0.947276\n",
            "253               Bo McCalebb       PG    New Orleans Pelicans   0.525093\n",
            "254        Bryce Dejean-Jones       SG    New Orleans Pelicans   0.169883\n",
            "255           Carmelo Anthony       SF         New York Knicks  22.875000\n",
            "256               Robin Lopez        C         New York Knicks  12.650000\n",
            "257             Arron Afflalo       SG         New York Knicks   8.000000\n",
            "258             Jose Calderon       PG         New York Knicks   7.402812\n",
            "259        Kristaps Porzingis       PF         New York Knicks   4.131720\n",
            "260          Derrick Williams       PF         New York Knicks   4.000000\n",
            "261              Kyle O'Quinn       PF         New York Knicks   3.750000\n",
            "262              Lance Thomas       SF         New York Knicks   1.636842\n",
            "263              Lou Amundson       PF         New York Knicks   1.635476\n",
            "264              Jerian Grant       PG         New York Knicks   1.572360\n",
            "265           Jimmer Fredette       PG         New York Knicks   0.874837\n",
            "266         Langston Galloway       SG         New York Knicks   0.845059\n",
            "267    Thanasis Antetokounmpo       SF         New York Knicks   0.030888\n",
            "268              Kevin Durant       SF   Oklahoma City Thunder  20.158622\n",
            "269         Russell Westbrook       PG   Oklahoma City Thunder  16.744218\n",
            "270               Enes Kanter        C   Oklahoma City Thunder  16.407500\n",
            "271               Serge Ibaka       PF   Oklahoma City Thunder  12.250000\n",
            "272              Dion Waiters       SG   Oklahoma City Thunder   5.138430\n",
            "273              Kyle Singler       SF   Oklahoma City Thunder   4.500000\n",
            "274             Nick Collison       PF   Oklahoma City Thunder   3.750000\n",
            "275            Anthony Morrow       SG   Oklahoma City Thunder   3.344000\n",
            "276                Randy Foye       SG   Oklahoma City Thunder   3.135000\n",
            "277             D.J. Augustin       PG   Oklahoma City Thunder   3.000000\n",
            "278              Steven Adams        C   Oklahoma City Thunder   2.279040\n",
            "279             Cameron Payne       PG   Oklahoma City Thunder   2.021520\n",
            "280              Mitch McGary       PF   Oklahoma City Thunder   1.463040\n",
            "281            Andre Roberson       SG   Oklahoma City Thunder   1.210800\n",
            "282              Josh Huestis       SF   Oklahoma City Thunder   1.140240\n",
            "283               Steve Novak       SF   Oklahoma City Thunder   0.289755\n",
            "284             Tobias Harris       SF           Orlando Magic  16.000000\n",
            "285            Nikola Vucevic        C           Orlando Magic  11.250000\n",
            "286          Brandon Jennings       PG           Orlando Magic   8.344497\n",
            "287             Channing Frye       PF           Orlando Magic   8.193029\n",
            "288            Ersan Ilyasova       PF           Orlando Magic   7.900000\n",
            "289            Victor Oladipo       SG           Orlando Magic   5.192520\n",
            "290               Jason Smith       PF           Orlando Magic   4.300000\n",
            "291              Aaron Gordon       PF           Orlando Magic   4.171680\n",
            "292             Mario Hezonja       SG           Orlando Magic   3.741480\n",
            "293             Elfrid Payton       PG           Orlando Magic   2.505720\n",
            "294          Andrew Nicholson       PF           Orlando Magic   2.380593\n",
            "295             Evan Fournier       SG           Orlando Magic   2.288205\n",
            "296            Shabazz Napier       PG           Orlando Magic   1.294440\n",
            "297             Keith Appling       PG           Orlando Magic   0.061776\n",
            "298            Gerald Wallace       SF      Philadelphia 76ers  10.105855\n",
            "299               Carl Landry       PF      Philadelphia 76ers   6.500000\n",
            "300               Joel Embiid        C      Philadelphia 76ers   4.626960\n",
            "301             Jahlil Okafor        C      Philadelphia 76ers   4.582680\n",
            "302              Nerlens Noel       PF      Philadelphia 76ers   3.457800\n",
            "303              Nik Stauskas       SG      Philadelphia 76ers   2.869440\n",
            "304            Furkan Aldemir       PF      Philadelphia 76ers   2.836768\n",
            "305               Tony Wroten       SG      Philadelphia 76ers   2.179353\n",
            "306          Kendall Marshall       PG      Philadelphia 76ers   2.144772\n",
            "307            Richaun Holmes       PF      Philadelphia 76ers   1.074169\n",
            "308          Robert Covington       SF      Philadelphia 76ers   1.000000\n",
            "309              Jerami Grant       SF      Philadelphia 76ers   0.845059\n",
            "310            JaKarr Sampson       SG      Philadelphia 76ers   0.258489\n",
            "311              Eric Bledsoe       PG            Phoenix Suns  13.500000\n",
            "312            Tyson Chandler        C            Phoenix Suns  13.000000\n",
            "313           Mirza Teletovic       PF            Phoenix Suns   5.500000\n",
            "314               P.J. Tucker       SF            Phoenix Suns   5.500000\n",
            "315                  Alex Len        C            Phoenix Suns   3.807120\n",
            "316              Devin Booker       SG            Phoenix Suns   2.127840\n",
            "317               T.J. Warren       SF            Phoenix Suns   2.041080\n",
            "318            Archie Goodwin       SG            Phoenix Suns   1.160160\n",
            "319                 Jon Leuer       PF            Phoenix Suns   1.035000\n",
            "320              Jerel McNeal       SG            Phoenix Suns   0.981348\n",
            "321             Terrico White       SG            Phoenix Suns   0.845059\n",
            "322              Bryce Cotton       PG            Phoenix Suns   0.700902\n",
            "323             Lorenzo Brown       PG            Phoenix Suns   0.111444\n",
            "324           Orlando Johnson       SG            Phoenix Suns   0.055722\n",
            "325              Phil Pressey       PG            Phoenix Suns   0.055722\n",
            "326              Jordan McRae       SG            Phoenix Suns   0.049709\n",
            "327            Cory Jefferson       PF            Phoenix Suns   0.049709\n",
            "328           Al-Farouq Aminu       SF  Portland Trail Blazers   8.042895\n",
            "329                  Ed Davis        C  Portland Trail Blazers   6.980802\n",
            "330          Gerald Henderson       SG  Portland Trail Blazers   6.000000\n",
            "331               Chris Kaman        C  Portland Trail Blazers   5.016000\n",
            "332            Damian Lillard       PG  Portland Trail Blazers   4.236287\n",
            "333            Meyers Leonard       PF  Portland Trail Blazers   3.075880\n",
            "334          Maurice Harkless       SF  Portland Trail Blazers   2.894059\n",
            "335               Noah Vonleh       PF  Portland Trail Blazers   2.637720\n",
            "336             C.J. McCollum       SG  Portland Trail Blazers   2.525160\n",
            "337             Mason Plumlee        C  Portland Trail Blazers   1.415520\n",
            "338              Allen Crabbe       SG  Portland Trail Blazers   0.947276\n",
            "339           Pat Connaughton       SG  Portland Trail Blazers   0.625093\n",
            "340              Luis Montero       SG  Portland Trail Blazers   0.525093\n",
            "341           Cliff Alexander       PF  Portland Trail Blazers   0.525093\n",
            "342          DeMarcus Cousins        C        Sacramento Kings  15.851950\n",
            "343                  Rudy Gay       SF        Sacramento Kings  12.403101\n",
            "344               Rajon Rondo       PG        Sacramento Kings   9.500000\n",
            "345              Kosta Koufos        C        Sacramento Kings   7.700000\n",
            "346           Marco Belinelli       SG        Sacramento Kings   6.060606\n",
            "347           Darren Collison       PG        Sacramento Kings   5.013559\n",
            "348       Willie Cauley-Stein        C        Sacramento Kings   3.398280\n",
            "349              Ben McLemore       SG        Sacramento Kings   3.156600\n",
            "350               Omri Casspi       SF        Sacramento Kings   2.836186\n",
            "351              Caron Butler       SF        Sacramento Kings   1.449187\n",
            "352            James Anderson       SG        Sacramento Kings   1.015421\n",
            "353         LaMarcus Aldridge       PF       San Antonio Spurs  19.689000\n",
            "354             Kawhi Leonard       SF       San Antonio Spurs  16.407500\n",
            "355               Tony Parker       PG       San Antonio Spurs  13.437500\n",
            "356               Danny Green       SG       San Antonio Spurs  10.000000\n",
            "357                Boris Diaw        C       San Antonio Spurs   7.500000\n",
            "358                Tim Duncan        C       San Antonio Spurs   5.250000\n",
            "359               Patty Mills       PG       San Antonio Spurs   3.578947\n",
            "360             Manu Ginobili       SG       San Antonio Spurs   2.814000\n",
            "361                David West       PF       San Antonio Spurs   1.499187\n",
            "362          Boban Marjanovic        C       San Antonio Spurs   1.200000\n",
            "363           Reggie Williams       SF       San Antonio Spurs   1.185784\n",
            "364             Kyle Anderson       SF       San Antonio Spurs   1.142880\n",
            "365              Ray McCallum       PG       San Antonio Spurs   0.947276\n",
            "366           DeMarre Carroll       SF         Toronto Raptors  13.600000\n",
            "367                Kyle Lowry       PG         Toronto Raptors  12.000000\n",
            "368             DeMar DeRozan       SG         Toronto Raptors  10.050000\n",
            "369               Cory Joseph       PG         Toronto Raptors   7.000000\n",
            "370         Patrick Patterson       PF         Toronto Raptors   6.268675\n",
            "371         Jonas Valanciunas        C         Toronto Raptors   4.660482\n",
            "372             Terrence Ross       SF         Toronto Raptors   3.553917\n",
            "373                Luis Scola       PF         Toronto Raptors   2.900000\n",
            "374           Bismack Biyombo        C         Toronto Raptors   2.814000\n",
            "375              Luke Ridnour       PG         Toronto Raptors   2.750000\n",
            "376             James Johnson       PF         Toronto Raptors   2.500000\n",
            "377            Lucas Nogueira        C         Toronto Raptors   1.842000\n",
            "378             Bruno Caboclo       SF         Toronto Raptors   1.524000\n",
            "379              Delon Wright       PG         Toronto Raptors   1.509360\n",
            "380             Norman Powell       SG         Toronto Raptors   0.650000\n",
            "381             Shannon Scott       PG         Toronto Raptors   0.525093\n",
            "382        Ronald Roberts Jr.       PF         Toronto Raptors   0.525093\n",
            "383            Gordon Hayward       SF               Utah Jazz  15.409570\n",
            "384                Alec Burks       SG               Utah Jazz   9.463484\n",
            "385             Trevor Booker       PF               Utah Jazz   4.775000\n",
            "386                Dante Exum       PG               Utah Jazz   3.777720\n",
            "387              Tibor Pleiss        C               Utah Jazz   2.900000\n",
            "388                Trey Burke       PG               Utah Jazz   2.658240\n",
            "389              Shelvin Mack       PG               Utah Jazz   2.433333\n",
            "390                Trey Lyles       PF               Utah Jazz   2.239800\n",
            "391                Joe Ingles       SF               Utah Jazz   2.050000\n",
            "392               Rodney Hood       SG               Utah Jazz   1.348440\n",
            "393               Rudy Gobert        C               Utah Jazz   1.175880\n",
            "394             Chris Johnson       SF               Utah Jazz   0.981348\n",
            "395             Grant Jerrett       PF               Utah Jazz   0.947276\n",
            "396               Jeff Withey        C               Utah Jazz   0.947276\n",
            "397                 Raul Neto       PG               Utah Jazz   0.900000\n",
            "398            Treveon Graham       SG               Utah Jazz   0.525093\n",
            "399               Erick Green       PG               Utah Jazz   0.099418\n",
            "400                 John Wall       PG      Washington Wizards  15.851950\n",
            "401              Nene Hilario        C      Washington Wizards  13.000000\n",
            "402             Marcin Gortat        C      Washington Wizards  11.217391\n",
            "403           Markieff Morris       PF      Washington Wizards   8.000000\n",
            "404              Bradley Beal       SG      Washington Wizards   5.694674\n",
            "405           Martell Webster       SF      Washington Wizards   5.613500\n",
            "406           Otto Porter Jr.       SF      Washington Wizards   4.662960\n",
            "407            Kris Humphries       PF      Washington Wizards   4.440000\n",
            "408              Jared Dudley       SF      Washington Wizards   4.375000\n",
            "409             Alan Anderson       SG      Washington Wizards   4.000000\n",
            "410               Drew Gooden       PF      Washington Wizards   3.300000\n",
            "411            Ramon Sessions       PG      Washington Wizards   2.170465\n",
            "412                 Gary Neal       PG      Washington Wizards   2.139000\n",
            "413              DeJuan Blair        C      Washington Wizards   2.000000\n",
            "414           Kelly Oubre Jr.       SF      Washington Wizards   1.920240\n",
            "415            Garrett Temple       SG      Washington Wizards   1.100602\n",
            "416              Jarell Eddie       SG      Washington Wizards   0.561716\n"
          ]
        }
      ]
    },
    {
      "cell_type": "code",
      "source": [
        "df1=pd.read_csv('/content/world_population.csv')\n",
        "\n"
      ],
      "metadata": {
        "id": "zbh1L-9ow-Tq"
      },
      "execution_count": null,
      "outputs": []
    }
  ]
}