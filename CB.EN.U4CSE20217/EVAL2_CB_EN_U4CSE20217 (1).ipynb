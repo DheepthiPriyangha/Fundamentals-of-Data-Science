{
  "nbformat": 4,
  "nbformat_minor": 0,
  "metadata": {
    "colab": {
      "provenance": []
    },
    "kernelspec": {
      "name": "python3",
      "display_name": "Python 3"
    },
    "language_info": {
      "name": "python"
    }
  },
  "cells": [
    {
      "cell_type": "markdown",
      "source": [
        "EVAL-2\n",
        "CB.EN.U4CSE20217"
      ],
      "metadata": {
        "id": "aF6ZOSi-Mdxs"
      }
    },
    {
      "cell_type": "markdown",
      "source": [
        "PART-B"
      ],
      "metadata": {
        "id": "uPAzBLvPIV2s"
      }
    },
    {
      "cell_type": "markdown",
      "source": [
        "two tailed test:(ztest)"
      ],
      "metadata": {
        "id": "DCcEJ6LQvO7v"
      }
    },
    {
      "cell_type": "code",
      "source": [
        "import numpy as np\n",
        "import scipy.stats as st\n",
        "import math\n",
        "import pandas as pd"
      ],
      "metadata": {
        "id": "Hsmj4G1RxEdB"
      },
      "execution_count": 6,
      "outputs": []
    },
    {
      "cell_type": "markdown",
      "source": [
        "2.Carry out a hypothesis test for “mean” of a population. The population standard deviation is\n",
        "13.46, and the test is for a “mean” different from 60. Given: a sample size of 30, with “sample\n",
        "mean” 65.10. Consider alpha = 0.05. Demonstrate your solution using either the critical-value or p-value method."
      ],
      "metadata": {
        "id": "Fe3DObX6IqSV"
      }
    },
    {
      "cell_type": "code",
      "source": [
        "#H0=60(null hypothesis) and Ha!=60(alternative hypothesis)\n",
        "mu0=60\n",
        "n=30\n",
        "xbar=65.10\n",
        "s=13.46\n",
        "a=0.05\n",
        "c_value=st.norm.ppf(1-(a/2))\n",
        "\n",
        "print(\"The critical value is \",c_value)\n",
        "z=(xbar-mu0)/(s/math.sqrt(n))\n",
        "print(\"The z value is \",z)"
      ],
      "metadata": {
        "id": "NjX6P_nHx2J-",
        "colab": {
          "base_uri": "https://localhost:8080/"
        },
        "outputId": "39e30003-822f-4f9b-8eeb-0633c142822c"
      },
      "execution_count": 3,
      "outputs": [
        {
          "output_type": "stream",
          "name": "stdout",
          "text": [
            "The critical value is  1.959963984540054\n",
            "The z value is  2.075323211943792\n"
          ]
        }
      ]
    },
    {
      "cell_type": "code",
      "source": [
        "if(z>c_value and z<-(c_value)):\n",
        "  print(\"Null hypothesis cannot be rejected\")\n",
        "else:\n",
        "  print(\"Rejected\")\n"
      ],
      "metadata": {
        "colab": {
          "base_uri": "https://localhost:8080/"
        },
        "id": "3uEoU2P2ycgs",
        "outputId": "6c9f7fb7-eb71-49e0-df50-97686fad804c"
      },
      "execution_count": 43,
      "outputs": [
        {
          "output_type": "stream",
          "name": "stdout",
          "text": [
            "Rejected\n"
          ]
        }
      ]
    },
    {
      "cell_type": "markdown",
      "source": [
        "1.Narrative: Gregor Mendel (1822-1884) was an Austrian monk widely recognized as the\n",
        "founder of the modern field of genetics. Many of his experiments were on varieties of pea\n",
        "plants. He formulated sets of assumptions about each variety; these were his models. He then\n",
        "tested the validity of his models by growing the plants and gathering data. You are required to\n",
        "analyze the data from one such experiment to see if Mendel's model was good. In a particular\n",
        "variety, each plant has either purple flowers or white. The color in each plant is unaffected by\n",
        "the colors in other plants.\n",
        "• Mendel’s hypothesis: plants should bear purple or white flowers at random, in the ratio 3:1.\n",
        "i.e., For every plant, there is a 75% chance that it will have purple flowers, and a 25% chance\n",
        "that the flowers will be white, regardless of the colors in all the other plants.\n",
        "• Mendel’s experiment: Mendel recorded the number of purple and white flowering plants.\n",
        "Among the 929 plants that he grew, assume (705 + “last 2 digits of your Roll Number”)705+17=722\n",
        "were purple flowering.\n",
        "• Hypothesis Test: Carry out a hypothesis test to ascertain Mendel's model.\n",
        "Specific Requirements:\n",
        "1. State the Null and Alternative Hypothesis (2).\n",
        "2. What statistic do you recommend to apply for this case(2)?\n",
        "3. State the observed statistic(2)\n",
        "4. Simulate the test statistic under the Null that will help make the decision(5). The number\n",
        "of simulations should be equal to (2000 - “Last 3 digits of your Roll Number”).2000-217=1783\n",
        "5. Draw a histogram to depict what the model of random selection predicts about the\n",
        "statistic.(4). Depict the observed statistic as a red dot on the histogram(1).\n",
        "6. What is the outcome of your analysis? (1)\n"
      ],
      "metadata": {
        "id": "ezjT7BuBLr75"
      }
    },
    {
      "cell_type": "markdown",
      "source": [
        "1) State the Null and Alternative Hypothesis.\n",
        "Null Hypothesis :Every plant bearing flowers in purple to white ratio is 3:1.\n",
        "Alternate hypothesis:Every plant bearing flowers in purple to white ratio is not 3:1.\n",
        "\n",
        "2) What statistic do you recommend to apply for this case\n",
        "Statistic recommended : Ratio between purple and white flower.\n",
        "\n",
        "3.State the observed statistic\n"
      ],
      "metadata": {
        "id": "T2foGp8LKOQv"
      }
    },
    {
      "cell_type": "code",
      "source": [
        "import random\n",
        "\n",
        "flowers = ['purple']*722  #705+17=722\n",
        "white = ['white']*207     #929-722=207\n",
        "flowers.extend(white)\n",
        "random.shuffle(flowers)\n",
        "flowers[640:650]"
      ],
      "metadata": {
        "colab": {
          "base_uri": "https://localhost:8080/"
        },
        "id": "lIE-X2gONKr9",
        "outputId": "b2740560-8c63-4857-fddb-8bad8f58be75"
      },
      "execution_count": 34,
      "outputs": [
        {
          "output_type": "execute_result",
          "data": {
            "text/plain": [
              "['purple',\n",
              " 'purple',\n",
              " 'purple',\n",
              " 'purple',\n",
              " 'purple',\n",
              " 'purple',\n",
              " 'white',\n",
              " 'purple',\n",
              " 'purple',\n",
              " 'purple']"
            ]
          },
          "metadata": {},
          "execution_count": 34
        }
      ]
    },
    {
      "cell_type": "code",
      "source": [
        "df = pd.DataFrame(flowers,columns=['Flower'])\n",
        "df.describe()"
      ],
      "metadata": {
        "colab": {
          "base_uri": "https://localhost:8080/",
          "height": 175
        },
        "id": "9ah6mauEPOv4",
        "outputId": "a44d9dc1-c81f-4d41-db07-a85de3efbf5f"
      },
      "execution_count": 15,
      "outputs": [
        {
          "output_type": "execute_result",
          "data": {
            "text/plain": [
              "        Flower\n",
              "count      929\n",
              "unique       2\n",
              "top     purple\n",
              "freq       722"
            ],
            "text/html": [
              "\n",
              "  <div id=\"df-63871153-82fa-40de-a096-352b21a23974\">\n",
              "    <div class=\"colab-df-container\">\n",
              "      <div>\n",
              "<style scoped>\n",
              "    .dataframe tbody tr th:only-of-type {\n",
              "        vertical-align: middle;\n",
              "    }\n",
              "\n",
              "    .dataframe tbody tr th {\n",
              "        vertical-align: top;\n",
              "    }\n",
              "\n",
              "    .dataframe thead th {\n",
              "        text-align: right;\n",
              "    }\n",
              "</style>\n",
              "<table border=\"1\" class=\"dataframe\">\n",
              "  <thead>\n",
              "    <tr style=\"text-align: right;\">\n",
              "      <th></th>\n",
              "      <th>Flower</th>\n",
              "    </tr>\n",
              "  </thead>\n",
              "  <tbody>\n",
              "    <tr>\n",
              "      <th>count</th>\n",
              "      <td>929</td>\n",
              "    </tr>\n",
              "    <tr>\n",
              "      <th>unique</th>\n",
              "      <td>2</td>\n",
              "    </tr>\n",
              "    <tr>\n",
              "      <th>top</th>\n",
              "      <td>purple</td>\n",
              "    </tr>\n",
              "    <tr>\n",
              "      <th>freq</th>\n",
              "      <td>722</td>\n",
              "    </tr>\n",
              "  </tbody>\n",
              "</table>\n",
              "</div>\n",
              "      <button class=\"colab-df-convert\" onclick=\"convertToInteractive('df-63871153-82fa-40de-a096-352b21a23974')\"\n",
              "              title=\"Convert this dataframe to an interactive table.\"\n",
              "              style=\"display:none;\">\n",
              "        \n",
              "  <svg xmlns=\"http://www.w3.org/2000/svg\" height=\"24px\"viewBox=\"0 0 24 24\"\n",
              "       width=\"24px\">\n",
              "    <path d=\"M0 0h24v24H0V0z\" fill=\"none\"/>\n",
              "    <path d=\"M18.56 5.44l.94 2.06.94-2.06 2.06-.94-2.06-.94-.94-2.06-.94 2.06-2.06.94zm-11 1L8.5 8.5l.94-2.06 2.06-.94-2.06-.94L8.5 2.5l-.94 2.06-2.06.94zm10 10l.94 2.06.94-2.06 2.06-.94-2.06-.94-.94-2.06-.94 2.06-2.06.94z\"/><path d=\"M17.41 7.96l-1.37-1.37c-.4-.4-.92-.59-1.43-.59-.52 0-1.04.2-1.43.59L10.3 9.45l-7.72 7.72c-.78.78-.78 2.05 0 2.83L4 21.41c.39.39.9.59 1.41.59.51 0 1.02-.2 1.41-.59l7.78-7.78 2.81-2.81c.8-.78.8-2.07 0-2.86zM5.41 20L4 18.59l7.72-7.72 1.47 1.35L5.41 20z\"/>\n",
              "  </svg>\n",
              "      </button>\n",
              "      \n",
              "  <style>\n",
              "    .colab-df-container {\n",
              "      display:flex;\n",
              "      flex-wrap:wrap;\n",
              "      gap: 12px;\n",
              "    }\n",
              "\n",
              "    .colab-df-convert {\n",
              "      background-color: #E8F0FE;\n",
              "      border: none;\n",
              "      border-radius: 50%;\n",
              "      cursor: pointer;\n",
              "      display: none;\n",
              "      fill: #1967D2;\n",
              "      height: 32px;\n",
              "      padding: 0 0 0 0;\n",
              "      width: 32px;\n",
              "    }\n",
              "\n",
              "    .colab-df-convert:hover {\n",
              "      background-color: #E2EBFA;\n",
              "      box-shadow: 0px 1px 2px rgba(60, 64, 67, 0.3), 0px 1px 3px 1px rgba(60, 64, 67, 0.15);\n",
              "      fill: #174EA6;\n",
              "    }\n",
              "\n",
              "    [theme=dark] .colab-df-convert {\n",
              "      background-color: #3B4455;\n",
              "      fill: #D2E3FC;\n",
              "    }\n",
              "\n",
              "    [theme=dark] .colab-df-convert:hover {\n",
              "      background-color: #434B5C;\n",
              "      box-shadow: 0px 1px 3px 1px rgba(0, 0, 0, 0.15);\n",
              "      filter: drop-shadow(0px 1px 2px rgba(0, 0, 0, 0.3));\n",
              "      fill: #FFFFFF;\n",
              "    }\n",
              "  </style>\n",
              "\n",
              "      <script>\n",
              "        const buttonEl =\n",
              "          document.querySelector('#df-63871153-82fa-40de-a096-352b21a23974 button.colab-df-convert');\n",
              "        buttonEl.style.display =\n",
              "          google.colab.kernel.accessAllowed ? 'block' : 'none';\n",
              "\n",
              "        async function convertToInteractive(key) {\n",
              "          const element = document.querySelector('#df-63871153-82fa-40de-a096-352b21a23974');\n",
              "          const dataTable =\n",
              "            await google.colab.kernel.invokeFunction('convertToInteractive',\n",
              "                                                     [key], {});\n",
              "          if (!dataTable) return;\n",
              "\n",
              "          const docLinkHtml = 'Like what you see? Visit the ' +\n",
              "            '<a target=\"_blank\" href=https://colab.research.google.com/notebooks/data_table.ipynb>data table notebook</a>'\n",
              "            + ' to learn more about interactive tables.';\n",
              "          element.innerHTML = '';\n",
              "          dataTable['output_type'] = 'display_data';\n",
              "          await google.colab.output.renderOutput(dataTable, element);\n",
              "          const docLink = document.createElement('div');\n",
              "          docLink.innerHTML = docLinkHtml;\n",
              "          element.appendChild(docLink);\n",
              "        }\n",
              "      </script>\n",
              "    </div>\n",
              "  </div>\n",
              "  "
            ]
          },
          "metadata": {},
          "execution_count": 15
        }
      ]
    },
    {
      "cell_type": "code",
      "source": [
        "purple_count = df[df[\"Flower\"]=='purple'].count()\n",
        "purple_count"
      ],
      "metadata": {
        "colab": {
          "base_uri": "https://localhost:8080/"
        },
        "id": "glnSfw7CP154",
        "outputId": "3cae67cf-7062-4791-df0e-9605eb26af72"
      },
      "execution_count": 17,
      "outputs": [
        {
          "output_type": "execute_result",
          "data": {
            "text/plain": [
              "Flower    722\n",
              "dtype: int64"
            ]
          },
          "metadata": {},
          "execution_count": 17
        }
      ]
    },
    {
      "cell_type": "code",
      "source": [
        "white_count=df[df[\"Flower\"]=='white'].count()\n",
        "white_count"
      ],
      "metadata": {
        "colab": {
          "base_uri": "https://localhost:8080/"
        },
        "id": "1l3yYT7bRCfQ",
        "outputId": "5c0a9bb7-5d30-4441-cf3a-7ae244fafb28"
      },
      "execution_count": 18,
      "outputs": [
        {
          "output_type": "execute_result",
          "data": {
            "text/plain": [
              "Flower    207\n",
              "dtype: int64"
            ]
          },
          "metadata": {},
          "execution_count": 18
        }
      ]
    },
    {
      "cell_type": "code",
      "source": [
        "total_flowers = df[\"Flower\"].count()\n",
        "print(\"Total flower count value is:\", total_flowers)"
      ],
      "metadata": {
        "colab": {
          "base_uri": "https://localhost:8080/"
        },
        "id": "LpqWtZEHRFZh",
        "outputId": "54f8c11c-ff06-4027-bfb5-34c95adaa007"
      },
      "execution_count": 21,
      "outputs": [
        {
          "output_type": "stream",
          "name": "stdout",
          "text": [
            "Total flower count value is: 929\n"
          ]
        }
      ]
    },
    {
      "cell_type": "code",
      "source": [
        "observed_proportion = purple_count/total_flowers\n",
        "observed_proportion"
      ],
      "metadata": {
        "colab": {
          "base_uri": "https://localhost:8080/"
        },
        "id": "xX6X3uXSRUc9",
        "outputId": "48322f1d-6103-4b58-cb04-f90a4b14738a"
      },
      "execution_count": 22,
      "outputs": [
        {
          "output_type": "execute_result",
          "data": {
            "text/plain": [
              "Flower    0.77718\n",
              "dtype: float64"
            ]
          },
          "metadata": {},
          "execution_count": 22
        }
      ]
    },
    {
      "cell_type": "markdown",
      "source": [
        "Test Statistic. Since the model predicts 75% purple-flowering plants, a relevant statistic is the difference between 0.75 and the observed proportion of purple-flowering plants."
      ],
      "metadata": {
        "id": "r2ak1FHARXea"
      }
    },
    {
      "cell_type": "code",
      "source": [
        "observed_statistic = abs(observed_proportion-0.75)\n",
        "observed_statistic"
      ],
      "metadata": {
        "colab": {
          "base_uri": "https://localhost:8080/"
        },
        "id": "DdyTxG_0RYM7",
        "outputId": "d9ca2810-28a6-4263-e2bd-e53712643740"
      },
      "execution_count": 24,
      "outputs": [
        {
          "output_type": "execute_result",
          "data": {
            "text/plain": [
              "Flower    0.02718\n",
              "dtype: float64"
            ]
          },
          "metadata": {},
          "execution_count": 24
        }
      ]
    },
    {
      "cell_type": "code",
      "source": [
        "model_colors = ['purple','purple','purple','white']\n",
        "new_sample = np.random.choice(model_colors,total_flowers)\n",
        "new_sample"
      ],
      "metadata": {
        "colab": {
          "base_uri": "https://localhost:8080/"
        },
        "id": "eMvUheOIRbIY",
        "outputId": "cad8752a-8b40-453f-9c25-ca6f16f2e737"
      },
      "execution_count": 27,
      "outputs": [
        {
          "output_type": "execute_result",
          "data": {
            "text/plain": [
              "array(['white', 'purple', 'purple', 'purple', 'purple', 'purple',\n",
              "       'purple', 'purple', 'purple', 'purple', 'purple', 'purple',\n",
              "       'purple', 'purple', 'purple', 'purple', 'purple', 'purple',\n",
              "       'purple', 'purple', 'purple', 'purple', 'white', 'purple',\n",
              "       'purple', 'purple', 'purple', 'purple', 'purple', 'purple',\n",
              "       'purple', 'purple', 'purple', 'purple', 'purple', 'white',\n",
              "       'purple', 'purple', 'purple', 'white', 'purple', 'purple', 'white',\n",
              "       'purple', 'purple', 'white', 'purple', 'white', 'purple', 'purple',\n",
              "       'purple', 'white', 'purple', 'purple', 'purple', 'purple',\n",
              "       'purple', 'purple', 'purple', 'white', 'purple', 'purple',\n",
              "       'purple', 'purple', 'purple', 'purple', 'purple', 'white', 'white',\n",
              "       'purple', 'purple', 'white', 'purple', 'purple', 'purple',\n",
              "       'purple', 'purple', 'white', 'purple', 'purple', 'purple',\n",
              "       'purple', 'white', 'white', 'purple', 'white', 'purple', 'white',\n",
              "       'purple', 'purple', 'purple', 'white', 'white', 'purple', 'purple',\n",
              "       'purple', 'purple', 'purple', 'white', 'purple', 'purple',\n",
              "       'purple', 'purple', 'purple', 'white', 'purple', 'purple', 'white',\n",
              "       'purple', 'purple', 'purple', 'purple', 'purple', 'purple',\n",
              "       'purple', 'white', 'purple', 'white', 'white', 'white', 'white',\n",
              "       'white', 'purple', 'purple', 'purple', 'purple', 'purple', 'white',\n",
              "       'purple', 'purple', 'purple', 'purple', 'purple', 'purple',\n",
              "       'purple', 'purple', 'purple', 'purple', 'white', 'purple',\n",
              "       'purple', 'purple', 'purple', 'purple', 'purple', 'purple',\n",
              "       'purple', 'white', 'purple', 'purple', 'purple', 'white', 'purple',\n",
              "       'purple', 'purple', 'purple', 'white', 'purple', 'white', 'purple',\n",
              "       'purple', 'white', 'purple', 'purple', 'purple', 'purple', 'white',\n",
              "       'purple', 'purple', 'purple', 'purple', 'purple', 'purple',\n",
              "       'white', 'purple', 'white', 'white', 'purple', 'purple', 'purple',\n",
              "       'purple', 'purple', 'purple', 'purple', 'purple', 'purple',\n",
              "       'purple', 'purple', 'purple', 'purple', 'purple', 'purple',\n",
              "       'purple', 'white', 'purple', 'purple', 'white', 'purple', 'purple',\n",
              "       'white', 'purple', 'white', 'purple', 'purple', 'purple', 'white',\n",
              "       'purple', 'purple', 'purple', 'purple', 'purple', 'white',\n",
              "       'purple', 'purple', 'white', 'purple', 'purple', 'purple',\n",
              "       'purple', 'purple', 'white', 'purple', 'white', 'purple', 'purple',\n",
              "       'white', 'white', 'purple', 'purple', 'purple', 'purple', 'purple',\n",
              "       'purple', 'purple', 'purple', 'purple', 'purple', 'white', 'white',\n",
              "       'purple', 'white', 'white', 'purple', 'purple', 'purple', 'purple',\n",
              "       'purple', 'purple', 'purple', 'purple', 'purple', 'white',\n",
              "       'purple', 'purple', 'purple', 'purple', 'purple', 'purple',\n",
              "       'purple', 'purple', 'purple', 'purple', 'purple', 'white',\n",
              "       'purple', 'white', 'white', 'purple', 'purple', 'purple', 'white',\n",
              "       'white', 'purple', 'purple', 'purple', 'purple', 'white', 'purple',\n",
              "       'white', 'purple', 'purple', 'purple', 'white', 'purple', 'purple',\n",
              "       'purple', 'white', 'purple', 'purple', 'purple', 'purple',\n",
              "       'purple', 'purple', 'purple', 'purple', 'purple', 'purple',\n",
              "       'white', 'purple', 'purple', 'purple', 'purple', 'purple',\n",
              "       'purple', 'purple', 'purple', 'white', 'purple', 'white', 'purple',\n",
              "       'purple', 'purple', 'purple', 'purple', 'purple', 'purple',\n",
              "       'purple', 'white', 'purple', 'purple', 'purple', 'purple',\n",
              "       'purple', 'white', 'white', 'purple', 'white', 'purple', 'purple',\n",
              "       'purple', 'purple', 'purple', 'purple', 'purple', 'purple',\n",
              "       'purple', 'purple', 'purple', 'purple', 'purple', 'purple',\n",
              "       'purple', 'purple', 'purple', 'purple', 'purple', 'purple',\n",
              "       'purple', 'white', 'white', 'purple', 'purple', 'purple', 'white',\n",
              "       'purple', 'purple', 'purple', 'white', 'purple', 'purple',\n",
              "       'purple', 'white', 'purple', 'white', 'purple', 'purple', 'purple',\n",
              "       'purple', 'purple', 'purple', 'purple', 'purple', 'purple',\n",
              "       'purple', 'purple', 'purple', 'purple', 'purple', 'purple',\n",
              "       'purple', 'purple', 'white', 'white', 'purple', 'purple', 'purple',\n",
              "       'purple', 'purple', 'white', 'purple', 'purple', 'purple',\n",
              "       'purple', 'purple', 'white', 'purple', 'white', 'purple', 'white',\n",
              "       'purple', 'purple', 'purple', 'purple', 'white', 'purple',\n",
              "       'purple', 'purple', 'purple', 'purple', 'purple', 'purple',\n",
              "       'purple', 'purple', 'white', 'purple', 'purple', 'purple', 'white',\n",
              "       'purple', 'purple', 'purple', 'purple', 'purple', 'purple',\n",
              "       'purple', 'purple', 'purple', 'purple', 'purple', 'purple',\n",
              "       'purple', 'purple', 'white', 'white', 'purple', 'purple', 'purple',\n",
              "       'purple', 'purple', 'purple', 'purple', 'purple', 'purple',\n",
              "       'white', 'purple', 'purple', 'purple', 'white', 'purple', 'white',\n",
              "       'white', 'purple', 'purple', 'purple', 'purple', 'purple',\n",
              "       'purple', 'white', 'purple', 'purple', 'purple', 'purple',\n",
              "       'purple', 'purple', 'white', 'white', 'purple', 'white', 'purple',\n",
              "       'purple', 'white', 'purple', 'purple', 'purple', 'purple',\n",
              "       'purple', 'purple', 'white', 'purple', 'purple', 'purple', 'white',\n",
              "       'purple', 'white', 'purple', 'purple', 'purple', 'purple',\n",
              "       'purple', 'purple', 'purple', 'purple', 'purple', 'purple',\n",
              "       'purple', 'purple', 'purple', 'purple', 'white', 'purple', 'white',\n",
              "       'purple', 'purple', 'purple', 'purple', 'purple', 'purple',\n",
              "       'purple', 'purple', 'white', 'white', 'purple', 'purple', 'white',\n",
              "       'purple', 'white', 'white', 'purple', 'purple', 'purple', 'purple',\n",
              "       'purple', 'purple', 'purple', 'purple', 'white', 'white', 'white',\n",
              "       'purple', 'purple', 'purple', 'purple', 'white', 'purple',\n",
              "       'purple', 'purple', 'purple', 'white', 'purple', 'purple',\n",
              "       'purple', 'purple', 'purple', 'purple', 'white', 'purple', 'white',\n",
              "       'purple', 'white', 'purple', 'white', 'purple', 'purple', 'purple',\n",
              "       'purple', 'white', 'purple', 'purple', 'purple', 'purple', 'white',\n",
              "       'white', 'purple', 'purple', 'purple', 'white', 'purple', 'white',\n",
              "       'white', 'purple', 'purple', 'white', 'purple', 'white', 'purple',\n",
              "       'purple', 'purple', 'purple', 'purple', 'purple', 'purple',\n",
              "       'purple', 'white', 'purple', 'purple', 'white', 'white', 'purple',\n",
              "       'white', 'purple', 'purple', 'purple', 'purple', 'purple',\n",
              "       'purple', 'white', 'white', 'purple', 'purple', 'white', 'purple',\n",
              "       'purple', 'purple', 'purple', 'purple', 'purple', 'white', 'white',\n",
              "       'purple', 'white', 'purple', 'white', 'purple', 'white', 'purple',\n",
              "       'purple', 'purple', 'purple', 'purple', 'purple', 'white', 'white',\n",
              "       'purple', 'white', 'purple', 'white', 'white', 'purple', 'purple',\n",
              "       'purple', 'purple', 'purple', 'purple', 'purple', 'white',\n",
              "       'purple', 'white', 'white', 'purple', 'purple', 'purple', 'purple',\n",
              "       'purple', 'white', 'purple', 'purple', 'purple', 'white', 'purple',\n",
              "       'purple', 'purple', 'purple', 'purple', 'purple', 'purple',\n",
              "       'purple', 'purple', 'purple', 'purple', 'white', 'purple', 'white',\n",
              "       'white', 'purple', 'purple', 'white', 'purple', 'purple', 'purple',\n",
              "       'purple', 'purple', 'purple', 'purple', 'purple', 'white',\n",
              "       'purple', 'purple', 'white', 'purple', 'purple', 'white', 'white',\n",
              "       'purple', 'purple', 'white', 'purple', 'purple', 'purple',\n",
              "       'purple', 'white', 'purple', 'purple', 'purple', 'purple',\n",
              "       'purple', 'purple', 'white', 'purple', 'purple', 'purple',\n",
              "       'purple', 'purple', 'purple', 'purple', 'purple', 'purple',\n",
              "       'white', 'purple', 'purple', 'purple', 'purple', 'white', 'white',\n",
              "       'white', 'purple', 'white', 'purple', 'purple', 'purple', 'white',\n",
              "       'purple', 'white', 'white', 'purple', 'purple', 'purple', 'purple',\n",
              "       'purple', 'purple', 'purple', 'purple', 'purple', 'purple',\n",
              "       'purple', 'white', 'white', 'purple', 'white', 'purple', 'purple',\n",
              "       'purple', 'purple', 'purple', 'purple', 'white', 'white', 'purple',\n",
              "       'white', 'white', 'purple', 'white', 'white', 'purple', 'white',\n",
              "       'purple', 'white', 'purple', 'purple', 'purple', 'white', 'purple',\n",
              "       'purple', 'purple', 'purple', 'purple', 'purple', 'purple',\n",
              "       'white', 'purple', 'purple', 'white', 'purple', 'purple', 'purple',\n",
              "       'purple', 'purple', 'purple', 'purple', 'purple', 'purple',\n",
              "       'purple', 'white', 'white', 'white', 'purple', 'purple', 'purple',\n",
              "       'purple', 'purple', 'purple', 'purple', 'purple', 'purple',\n",
              "       'purple', 'purple', 'purple', 'purple', 'purple', 'purple',\n",
              "       'purple', 'purple', 'purple', 'white', 'white', 'purple', 'white',\n",
              "       'purple', 'white', 'purple', 'purple', 'white', 'white', 'purple',\n",
              "       'purple', 'purple', 'purple', 'purple', 'white', 'purple',\n",
              "       'purple', 'purple', 'purple', 'purple', 'white', 'white', 'purple',\n",
              "       'purple', 'white', 'purple', 'purple', 'white', 'purple', 'purple',\n",
              "       'white', 'purple', 'purple', 'purple', 'purple', 'purple', 'white',\n",
              "       'purple', 'white', 'purple', 'purple', 'purple', 'purple', 'white',\n",
              "       'purple', 'purple', 'purple', 'purple', 'purple', 'purple',\n",
              "       'purple', 'white', 'purple', 'purple', 'purple', 'purple',\n",
              "       'purple', 'purple', 'purple', 'purple', 'white', 'purple',\n",
              "       'purple', 'purple', 'purple', 'white', 'purple', 'purple',\n",
              "       'purple', 'purple', 'purple', 'purple', 'purple', 'white',\n",
              "       'purple', 'white', 'white', 'purple', 'purple', 'purple', 'purple',\n",
              "       'purple', 'purple', 'purple', 'purple', 'purple', 'purple',\n",
              "       'purple', 'white', 'purple', 'purple', 'purple', 'white', 'white',\n",
              "       'white', 'purple', 'purple', 'purple', 'white', 'purple', 'purple',\n",
              "       'purple', 'purple', 'purple', 'purple', 'purple', 'white',\n",
              "       'purple', 'white', 'purple', 'white', 'purple', 'purple', 'purple',\n",
              "       'purple', 'purple', 'white', 'purple', 'white', 'purple', 'white',\n",
              "       'purple', 'purple', 'purple', 'purple', 'white'], dtype='<U6')"
            ]
          },
          "metadata": {},
          "execution_count": 27
        }
      ]
    },
    {
      "cell_type": "markdown",
      "source": [
        "To compare with our observed statistic, we need to know by how much the proportion of purple-flowering plants in this new sample differs from 0.75."
      ],
      "metadata": {
        "id": "lQmt5F88RhTD"
      }
    },
    {
      "cell_type": "code",
      "source": [
        "proportion_purple = np.count_nonzero(new_sample == 'purple')/total_flowers\n",
        "print(abs(proportion_purple - 0.75))"
      ],
      "metadata": {
        "colab": {
          "base_uri": "https://localhost:8080/"
        },
        "id": "3w8NqOkvRe3-",
        "outputId": "3f11b2ce-1619-4d68-ad63-6de6bc2ff726"
      },
      "execution_count": 37,
      "outputs": [
        {
          "output_type": "stream",
          "name": "stdout",
          "text": [
            "0.018568353067814902\n"
          ]
        }
      ]
    },
    {
      "cell_type": "markdown",
      "source": [
        "Proportion of purple-flowers in this new sample which differs from 0.75 is 0.01857"
      ],
      "metadata": {
        "id": "Ar70W0IfR13I"
      }
    },
    {
      "cell_type": "code",
      "source": [
        "import numpy.random as npr\n",
        "simulations = 1783\n",
        "for i in range(simulations):\n",
        "    nosim=npr.binomial(total_flowers,0.75,simulations)\n",
        "nosim"
      ],
      "metadata": {
        "colab": {
          "base_uri": "https://localhost:8080/"
        },
        "id": "S21-9x-jRk4x",
        "outputId": "e006cbf6-4b2e-4bb2-bfca-3036e53d8c72"
      },
      "execution_count": 29,
      "outputs": [
        {
          "output_type": "execute_result",
          "data": {
            "text/plain": [
              "array([711, 687, 680, ..., 713, 689, 697])"
            ]
          },
          "metadata": {},
          "execution_count": 29
        }
      ]
    },
    {
      "cell_type": "code",
      "source": [
        "df = pd.DataFrame(nosim , columns =['Count'])\n",
        "\n",
        "df['sampled_stats']= (df['Count']/total_flowers)\n",
        "df = df.set_index('Count')\n",
        "df['Distance from 0.75'] = abs(df['sampled_stats']-0.75)\n",
        "\n",
        "df.head()"
      ],
      "metadata": {
        "colab": {
          "base_uri": "https://localhost:8080/",
          "height": 237
        },
        "id": "rcGMOCG3SnGc",
        "outputId": "392201aa-66a2-47e3-f8db-b3d71d2268e4"
      },
      "execution_count": 31,
      "outputs": [
        {
          "output_type": "execute_result",
          "data": {
            "text/plain": [
              "       sampled_stats  Distance from 0.75\n",
              "Count                                   \n",
              "711         0.765339            0.015339\n",
              "687         0.739505            0.010495\n",
              "680         0.731970            0.018030\n",
              "697         0.750269            0.000269\n",
              "695         0.748116            0.001884"
            ],
            "text/html": [
              "\n",
              "  <div id=\"df-b806d8f8-d4ed-4dd4-8668-9ed2a5fc9f96\">\n",
              "    <div class=\"colab-df-container\">\n",
              "      <div>\n",
              "<style scoped>\n",
              "    .dataframe tbody tr th:only-of-type {\n",
              "        vertical-align: middle;\n",
              "    }\n",
              "\n",
              "    .dataframe tbody tr th {\n",
              "        vertical-align: top;\n",
              "    }\n",
              "\n",
              "    .dataframe thead th {\n",
              "        text-align: right;\n",
              "    }\n",
              "</style>\n",
              "<table border=\"1\" class=\"dataframe\">\n",
              "  <thead>\n",
              "    <tr style=\"text-align: right;\">\n",
              "      <th></th>\n",
              "      <th>sampled_stats</th>\n",
              "      <th>Distance from 0.75</th>\n",
              "    </tr>\n",
              "    <tr>\n",
              "      <th>Count</th>\n",
              "      <th></th>\n",
              "      <th></th>\n",
              "    </tr>\n",
              "  </thead>\n",
              "  <tbody>\n",
              "    <tr>\n",
              "      <th>711</th>\n",
              "      <td>0.765339</td>\n",
              "      <td>0.015339</td>\n",
              "    </tr>\n",
              "    <tr>\n",
              "      <th>687</th>\n",
              "      <td>0.739505</td>\n",
              "      <td>0.010495</td>\n",
              "    </tr>\n",
              "    <tr>\n",
              "      <th>680</th>\n",
              "      <td>0.731970</td>\n",
              "      <td>0.018030</td>\n",
              "    </tr>\n",
              "    <tr>\n",
              "      <th>697</th>\n",
              "      <td>0.750269</td>\n",
              "      <td>0.000269</td>\n",
              "    </tr>\n",
              "    <tr>\n",
              "      <th>695</th>\n",
              "      <td>0.748116</td>\n",
              "      <td>0.001884</td>\n",
              "    </tr>\n",
              "  </tbody>\n",
              "</table>\n",
              "</div>\n",
              "      <button class=\"colab-df-convert\" onclick=\"convertToInteractive('df-b806d8f8-d4ed-4dd4-8668-9ed2a5fc9f96')\"\n",
              "              title=\"Convert this dataframe to an interactive table.\"\n",
              "              style=\"display:none;\">\n",
              "        \n",
              "  <svg xmlns=\"http://www.w3.org/2000/svg\" height=\"24px\"viewBox=\"0 0 24 24\"\n",
              "       width=\"24px\">\n",
              "    <path d=\"M0 0h24v24H0V0z\" fill=\"none\"/>\n",
              "    <path d=\"M18.56 5.44l.94 2.06.94-2.06 2.06-.94-2.06-.94-.94-2.06-.94 2.06-2.06.94zm-11 1L8.5 8.5l.94-2.06 2.06-.94-2.06-.94L8.5 2.5l-.94 2.06-2.06.94zm10 10l.94 2.06.94-2.06 2.06-.94-2.06-.94-.94-2.06-.94 2.06-2.06.94z\"/><path d=\"M17.41 7.96l-1.37-1.37c-.4-.4-.92-.59-1.43-.59-.52 0-1.04.2-1.43.59L10.3 9.45l-7.72 7.72c-.78.78-.78 2.05 0 2.83L4 21.41c.39.39.9.59 1.41.59.51 0 1.02-.2 1.41-.59l7.78-7.78 2.81-2.81c.8-.78.8-2.07 0-2.86zM5.41 20L4 18.59l7.72-7.72 1.47 1.35L5.41 20z\"/>\n",
              "  </svg>\n",
              "      </button>\n",
              "      \n",
              "  <style>\n",
              "    .colab-df-container {\n",
              "      display:flex;\n",
              "      flex-wrap:wrap;\n",
              "      gap: 12px;\n",
              "    }\n",
              "\n",
              "    .colab-df-convert {\n",
              "      background-color: #E8F0FE;\n",
              "      border: none;\n",
              "      border-radius: 50%;\n",
              "      cursor: pointer;\n",
              "      display: none;\n",
              "      fill: #1967D2;\n",
              "      height: 32px;\n",
              "      padding: 0 0 0 0;\n",
              "      width: 32px;\n",
              "    }\n",
              "\n",
              "    .colab-df-convert:hover {\n",
              "      background-color: #E2EBFA;\n",
              "      box-shadow: 0px 1px 2px rgba(60, 64, 67, 0.3), 0px 1px 3px 1px rgba(60, 64, 67, 0.15);\n",
              "      fill: #174EA6;\n",
              "    }\n",
              "\n",
              "    [theme=dark] .colab-df-convert {\n",
              "      background-color: #3B4455;\n",
              "      fill: #D2E3FC;\n",
              "    }\n",
              "\n",
              "    [theme=dark] .colab-df-convert:hover {\n",
              "      background-color: #434B5C;\n",
              "      box-shadow: 0px 1px 3px 1px rgba(0, 0, 0, 0.15);\n",
              "      filter: drop-shadow(0px 1px 2px rgba(0, 0, 0, 0.3));\n",
              "      fill: #FFFFFF;\n",
              "    }\n",
              "  </style>\n",
              "\n",
              "      <script>\n",
              "        const buttonEl =\n",
              "          document.querySelector('#df-b806d8f8-d4ed-4dd4-8668-9ed2a5fc9f96 button.colab-df-convert');\n",
              "        buttonEl.style.display =\n",
              "          google.colab.kernel.accessAllowed ? 'block' : 'none';\n",
              "\n",
              "        async function convertToInteractive(key) {\n",
              "          const element = document.querySelector('#df-b806d8f8-d4ed-4dd4-8668-9ed2a5fc9f96');\n",
              "          const dataTable =\n",
              "            await google.colab.kernel.invokeFunction('convertToInteractive',\n",
              "                                                     [key], {});\n",
              "          if (!dataTable) return;\n",
              "\n",
              "          const docLinkHtml = 'Like what you see? Visit the ' +\n",
              "            '<a target=\"_blank\" href=https://colab.research.google.com/notebooks/data_table.ipynb>data table notebook</a>'\n",
              "            + ' to learn more about interactive tables.';\n",
              "          element.innerHTML = '';\n",
              "          dataTable['output_type'] = 'display_data';\n",
              "          await google.colab.output.renderOutput(dataTable, element);\n",
              "          const docLink = document.createElement('div');\n",
              "          docLink.innerHTML = docLinkHtml;\n",
              "          element.appendChild(docLink);\n",
              "        }\n",
              "      </script>\n",
              "    </div>\n",
              "  </div>\n",
              "  "
            ]
          },
          "metadata": {},
          "execution_count": 31
        }
      ]
    },
    {
      "cell_type": "code",
      "source": [
        "import matplotlib.pyplot as plt\n",
        "\n",
        "plt.figure()\n",
        "plt.hist(df['Distance from 0.75'])\n",
        "plt.scatter(observed_statistic, 0, color='red', s=30)      #obs_stat= 0.0.579925\n",
        "plt.title('Empirical distribution')\n",
        "plt.xlabel('Distance from 0.75')\n",
        "plt.ylabel('Percent Per Unit')\n",
        "plt.grid()\n",
        "plt.show()"
      ],
      "metadata": {
        "colab": {
          "base_uri": "https://localhost:8080/",
          "height": 295
        },
        "id": "EdSYgW94TxPx",
        "outputId": "9b581f7b-5357-4bcc-9a83-7111e68ca3af"
      },
      "execution_count": 42,
      "outputs": [
        {
          "output_type": "display_data",
          "data": {
            "text/plain": [
              "<Figure size 432x288 with 1 Axes>"
            ],
            "image/png": "[encoded data removed]"
          },
          "metadata": {
            "needs_background": "light"
          }
        }
      ]
    },
    {
      "cell_type": "markdown",
      "source": [
        "CONCLUSION: According to mendel's the observed value of the statistic is 0.02718 which is under 0.04.\n",
        "The statistic of mendel's data is consistent with the distribution our simulation predicts based on Mendel's model.So it supports null hyposthesis."
      ],
      "metadata": {
        "id": "jye_eOvET2bP"
      }
    }
  ]
}