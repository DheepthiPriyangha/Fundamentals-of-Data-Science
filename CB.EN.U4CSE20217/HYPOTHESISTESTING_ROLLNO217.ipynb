{
  "nbformat": 4,
  "nbformat_minor": 0,
  "metadata": {
    "colab": {
      "provenance": []
    },
    "kernelspec": {
      "name": "python3",
      "display_name": "Python 3"
    },
    "language_info": {
      "name": "python"
    }
  },
  "cells": [
    {
      "cell_type": "markdown",
      "source": [
        "The average no of views of horror movies in Netflix is 50000. These numbers have a standard deviation of 3251. for the past 2 months, it has been observed that the average views for a sample of 55 horror movies is  21000 views.whether the viewers for this platform has decreased? perform a hypothesis test. significance level has alpha=0.05"
      ],
      "metadata": {
        "id": "uv8wcrAfUTCI"
      }
    },
    {
      "cell_type": "markdown",
      "source": [
        "*   Null hypothesis : Average number of views is still 50k.\n",
        "*   Alternative Hypothesis : Average number of views has been decreased.\n",
        "\n"
      ],
      "metadata": {
        "id": "HJx-yIGKVkCY"
      }
    },
    {
      "cell_type": "markdown",
      "source": [
        "Left tailed test"
      ],
      "metadata": {
        "id": "9lD1Y5WSWVlZ"
      }
    },
    {
      "cell_type": "code",
      "execution_count": null,
      "metadata": {
        "id": "woNKautmUMFW"
      },
      "outputs": [],
      "source": [
        "import numpy as np\n",
        "import scipy.stats as st"
      ]
    },
    {
      "cell_type": "code",
      "source": [
        "x_bar=21000\n",
        "mu=50000\n",
        "s=3251\n",
        "a=0.05\n",
        "n=55\n",
        "z=(x_bar-mu)/(s/np.sqrt(n))\n",
        "print(\"The z value is : \",z)\n"
      ],
      "metadata": {
        "colab": {
          "base_uri": "https://localhost:8080/"
        },
        "id": "q9PW4sqxWZ0R",
        "outputId": "4da4d2b4-183d-4400-c855-bc58b21353fa"
      },
      "execution_count": null,
      "outputs": [
        {
          "output_type": "stream",
          "name": "stdout",
          "text": [
            "The z value is :  -66.15495420663618\n"
          ]
        }
      ]
    },
    {
      "cell_type": "code",
      "source": [
        "z_critical=st.norm.ppf(a)\n",
        "print(z_critical)"
      ],
      "metadata": {
        "colab": {
          "base_uri": "https://localhost:8080/"
        },
        "id": "Sn_AXqB8XTmJ",
        "outputId": "2c8d9da3-2b29-4dc1-ac7e-0a1c27daf87f"
      },
      "execution_count": null,
      "outputs": [
        {
          "output_type": "stream",
          "name": "stdout",
          "text": [
            "-1.6448536269514729\n"
          ]
        }
      ]
    },
    {
      "cell_type": "code",
      "source": [
        "if z< z_critical:\n",
        "  print(\"Reject null hypothesis\")\n",
        "else:\n",
        "  print(\"Fail to reject null hypothesis\")"
      ],
      "metadata": {
        "colab": {
          "base_uri": "https://localhost:8080/"
        },
        "id": "Y8CZ5RCBX-O_",
        "outputId": "0061c5c5-c861-47f2-ddbc-982c474d7df5"
      },
      "execution_count": null,
      "outputs": [
        {
          "output_type": "stream",
          "name": "stdout",
          "text": [
            "Reject null hypothesis\n"
          ]
        }
      ]
    },
    {
      "cell_type": "markdown",
      "source": [
        "Null hypothesis is rejected.So the average no of views for the horror movies in netflix has decreased."
      ],
      "metadata": {
        "id": "oLqGhiQHYLCb"
      }
    },
    {
      "cell_type": "markdown",
      "source": [
        "T TEST USING P VALUE:"
      ],
      "metadata": {
        "id": "ViWo1-bCYhTc"
      }
    },
    {
      "cell_type": "markdown",
      "source": [
        "right tailed test"
      ],
      "metadata": {
        "id": "TM7nBRFNekrR"
      }
    },
    {
      "cell_type": "markdown",
      "source": [
        "The average no of views of horror movies in Netflix is 50000. These numbers have a standard deviation of 3251. for the past 2 months, it has been observed that the average views for a sample of 15 horror movies is  51000 views.whether the viewers for this platform has increased? perform a hypothesis test. significance level has alpha=0.05"
      ],
      "metadata": {
        "id": "ccRTZpygYxzF"
      }
    },
    {
      "cell_type": "markdown",
      "source": [
        "NULL HYPOTHESIS :the average number of horror movies is equal to or less than 50000.\n",
        "ALTERNATIVE HYPOTHESIS : the average number of horror movies is greater than 50000 or has increased."
      ],
      "metadata": {
        "id": "eVSPJP2FZ-GN"
      }
    },
    {
      "cell_type": "code",
      "source": [
        "n = 15\n",
        "degrees_of_freedom = n-1\n",
        "xbar = 51000\n",
        "mu = 50000\n",
        "s = 3251\n",
        "alpha = 0.05"
      ],
      "metadata": {
        "id": "8AjH4toLYg20"
      },
      "execution_count": null,
      "outputs": []
    },
    {
      "cell_type": "code",
      "source": [
        "t = (xbar - mu)/(s / np.sqrt(n))\n",
        "t"
      ],
      "metadata": {
        "colab": {
          "base_uri": "https://localhost:8080/"
        },
        "id": "xRvyEDm8Y7u_",
        "outputId": "afe6b31b-f2fe-482e-cfc2-a20c26680504"
      },
      "execution_count": null,
      "outputs": [
        {
          "output_type": "execute_result",
          "data": {
            "text/plain": [
              "1.1913206232566647"
            ]
          },
          "metadata": {},
          "execution_count": 17
        }
      ]
    },
    {
      "cell_type": "code",
      "source": [
        "p_val = (1-st.t.cdf(abs(t), degrees_of_freedom)) #\"1 - cdf\" because it's a right-tailed test\n",
        "p_val"
      ],
      "metadata": {
        "colab": {
          "base_uri": "https://localhost:8080/"
        },
        "id": "mZLVRcAvY9J2",
        "outputId": "db745e83-fe47-428c-9f40-1e2cd82745eb"
      },
      "execution_count": null,
      "outputs": [
        {
          "output_type": "execute_result",
          "data": {
            "text/plain": [
              "0.12666678196007597"
            ]
          },
          "metadata": {},
          "execution_count": 18
        }
      ]
    },
    {
      "cell_type": "code",
      "source": [
        "if (p_val > alpha):\n",
        "    print(\"Null hypothesis cannot be rejected\")\n",
        "else:\n",
        "    print(\"Reject null hypothesis\")"
      ],
      "metadata": {
        "colab": {
          "base_uri": "https://localhost:8080/"
        },
        "id": "wRq92NYhZz_y",
        "outputId": "c6902bc2-0f38-47b5-c260-9dd2d420b48a"
      },
      "execution_count": null,
      "outputs": [
        {
          "output_type": "stream",
          "name": "stdout",
          "text": [
            "Null hypothesis cannot be rejected\n"
          ]
        }
      ]
    },
    {
      "cell_type": "markdown",
      "source": [
        "From this we can see that the alternative hypothesis is rejected and the null hypothesis is accepted.i.e the average number of views is less than or equal to 50000."
      ],
      "metadata": {
        "id": "TRGAgzJ7Z7U5"
      }
    }
  ]
}